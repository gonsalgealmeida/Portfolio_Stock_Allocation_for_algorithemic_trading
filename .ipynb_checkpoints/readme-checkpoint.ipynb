{
 "cells": [
  {
   "cell_type": "markdown",
   "id": "9c088d3d",
   "metadata": {},
   "source": [
    "##(The project for fullfilment of an integral part of the Data incubator's fellowship program( 2023-spring - cohor)"
   ]
  },
  {
   "cell_type": "markdown",
   "id": "2d8c5014",
   "metadata": {},
   "source": [
    "# Risk Analysis and Portfolio Stock Allocation for algorithemic      trading:\n"
   ]
  },
  {
   "cell_type": "markdown",
   "id": "69dccf4b",
   "metadata": {},
   "source": [
    "# Project Summary:"
   ]
  },
  {
   "cell_type": "raw",
   "id": "c7f4c22d",
   "metadata": {},
   "source": [
    "This project focuses on the application of algorithmic trading and machine learning in investment management. It aims to utilize machine learning algorithms to automate investment tasks, extract information from data, and optimize portfolio allocation. The project explores various applications of machine learning, including risk analysis, alpha factor generation, strategy aggregation, and asset allocation. The objective is to enhance investment decision-making, achieve superior risk-return characteristics, and generate alpha in the trading process."
   ]
  },
  {
   "cell_type": "markdown",
   "id": "c0f44f10",
   "metadata": {},
   "source": [
    "Project Objectives:\n",
    "\n",
    "1. Explore the integration of algorithmic trading and machine learning in investment management.\n",
    "\n",
    "2. Utilize machine learning algorithms to automate investment tasks and improve decision-making.\n",
    "\n",
    "3. Investigate risk analysis techniques using machine learning for more effective portfolio allocation.\n",
    "\n",
    "4. Generate alpha through the development and evaluation of alpha factors using machine learning.\n",
    "\n",
    "5. Analyze and optimize trading strategies through strategy aggregation and asset allocation techniques.\n",
    "\n",
    "6. Evaluate the performance and effectiveness of machine learning-based trading strategies through testing   and validation."
   ]
  },
  {
   "cell_type": "markdown",
   "id": "7775e367",
   "metadata": {},
   "source": [
    "By achieving these objectives, the project aims to contribute to the advancement of algorithmic trading and machine learning applications in investment management, leading to more implementation to improve investment outcomes and enhanced portfolio performance."
   ]
  },
  {
   "cell_type": "markdown",
   "id": "afddeae9",
   "metadata": {},
   "source": [
    "The following are four sections as followed the above objectives:\n",
    "* [01 Market Data Sources  ]\n",
    "* [02 Alpha_factor_evaluation]\n",
    "* [03 Strategy_evaluation]\n",
    "* [04 Portfolio_stock_allocation]"
   ]
  },
  {
   "cell_type": "markdown",
   "id": "550c0914",
   "metadata": {},
   "source": [
    "# Data"
   ]
  },
  {
   "cell_type": "markdown",
   "id": "01dfabff",
   "metadata": {},
   "source": [
    "## 01 Market Data Sources \n",
    "This section focus on market and fundamental data sources and techniques. It covers working with high-frequency market data, and API access to market data. The python note book also covered into how to work with fundamental data and compares different formats for efficient data storage with pandas. \n",
    "There are several options to access market data via API using Python.\n"
   ]
  },
  {
   "cell_type": "markdown",
   "id": "783e7fb7",
   "metadata": {},
   "source": [
    "### pandas datareader\n",
    "The notebook [01_pandas_datareader_demo](01_pandas_datareader_demo.ipynb) presents a few sources built into the pandas library. \n",
    "- The `pandas` library enables access to data displayed on websites using the read_html function \n",
    "- the related `pandas-datareader` library provides access to the API endpoints of various data providers through a standard interface. "
   ]
  },
  {
   "cell_type": "markdown",
   "id": "f377551c",
   "metadata": {},
   "source": [
    "### yfinance\n",
    "\n",
    "The notebook [yfinance_demo](02_yfinance_demo.ipynb) shows how to use yfinance to download a variety of data from Yahoo! Finance. The library works around the deprecation of the historical data API by scraping data from the website in a reliable, efficient way with a Pythonic API.\n"
   ]
  },
  {
   "cell_type": "markdown",
   "id": "930d50ef",
   "metadata": {},
   "source": [
    "### Qandl\n",
    "\n",
    "The notebook [03_quandl_demo](03_quandl_demo.ipynb) shows how Quandl uses a very straightforward API to make its free and premium data available. See [documentation](https://www.quandl.com/tools/api) for more details."
   ]
  },
  {
   "cell_type": "markdown",
   "id": "b963b6eb",
   "metadata": {},
   "source": [
    "### zipline & Qantopian\n",
    "\n",
    "The notebook [contains the notebook [zipline_data](05_zipline_data.ipynb) briefly introduces the backtesting library `zipline` that we will use throughout this project and show how to access stock price data while running a backtest. "
   ]
  },
  {
   "cell_type": "markdown",
   "id": "37cd8754",
   "metadata": {},
   "source": [
    "# 02 Alpha_factor_evaluation\n",
    "              "
   ]
  },
  {
   "cell_type": "markdown",
   "id": "b8c0c848",
   "metadata": {},
   "source": [
    "This section is a guide to financial feature engineering and alpha factor research for algorithmic trading strategies. It defines alpha factors as signals that aim to produce uncorrelated returns and provides an overview of the tools used to compute and test alpha factors. The document emphasizes the importance of building on decades of factor research to identify new factors that capture risks better than known factors. The open-source zipline library is introduced as a tool for backtestings. \n"
   ]
  },
  {
   "cell_type": "markdown",
   "id": "3e80e8ae",
   "metadata": {},
   "source": [
    "# 03 Strategy_evaluation"
   ]
  },
  {
   "cell_type": "markdown",
   "id": "26816f8c",
   "metadata": {},
   "source": [
    "These notebooks evaluate portfolio optimization and performance. It explains that to test a strategy before implementing it under market conditions, one needs to simulate the trades the algorithm would make and verify their performance. It covers various topics, including measuring portfolio performance using metrics that reflect the return and risk of the investment portfolio. The note bookes also covered how modern portfolio theory, diversification, mean-variance optimization, and the capital asset pricing model are used to manage portfolio risk and return.\n",
    "\n",
    "The document also presents alternatives to mean-variance optimization, such as the 1/N portfolio, the minimum-variance portfolio, and the Black-Litterman approach. It also covers the Kelly rule and Hierarchical Risk Parity as novel approaches to optimize portfolios, including the application of machine learning to learn hierarchical relationships among assets and treat their holdings as complements or substitutes with respect to the portfolio risk profile. Finally, the document discusses Pyfolio, which facilitates the analysis of portfolio performance and risk in-sample and out-of-sample using many standard metrics.\n",
    "              \n",
    "              \n",
    "These notebooks focus on evaluating portfolio optimization and performance. They emphasize the importance of simulating trades and testing strategies before implementing them in real market conditions. Various topics are covered, including measuring portfolio performance using metrics that consider both return and risk."
   ]
  },
  {
   "cell_type": "markdown",
   "id": "7de4996b",
   "metadata": {},
   "source": [
    "# 04 Portfolio_stock_allocation"
   ]
  },
  {
   "cell_type": "markdown",
   "id": "49b3be97",
   "metadata": {},
   "source": [
    "\n",
    "The notebooks explore concepts such as modern portfolio theory, diversification, mean-variance optimization, and the capital asset pricing model as methods for managing portfolio risk and return. Additionally, alternatives to mean-variance optimization, such as the 1/N portfolio, minimum-variance portfolio, and Black-Litterman approach, are discussed.\n",
    "\n",
    "Finally, the notebooks delve into Pyfolio, a tool that facilitates the analysis of portfolio performance and risk using standard metrics. It allows for in-sample and out-of-sample evaluation, aiding in the assessment of portfolio strategies.\n",
    "\n",
    "Overall, the notebooks provide a comprehensive exploration of portfolio optimization, including traditional and alternative approaches, as well as the analysis of portfolio performance using Pyfolio.\n",
    "\n",
    "This note books evaluate on mean-variance optimization (MVO), which is what most people think of when they hear “portfolio optimization”.\n",
    "\n",
    "Mean-variance optimization requires two things: the expected returns of the assets, and the covariance matrix (or more generally, a risk model quantifying asset risk). we used PyPortfolioOpt used methods for estimating both (located in expected_returns and risk_models respectively)."
   ]
  },
  {
   "cell_type": "markdown",
   "id": "ed3d0711",
   "metadata": {},
   "source": [
    "Processed historical prices of 20 stocks:\n",
    "    \n",
    "           [\"MSFT\", \"AMZN\", \"KO\", \"MA\", \"COST\", \n",
    "           \"LUV\", \"XOM\", \"PFE\", \"JPM\", \"UNH\", \n",
    "           \"ACN\", \"DIS\", \"GILD\", \"F\", \"TSLA\",\"NVDA\",\"AAPL\",\"AMD\",\"F\",\"SOS\",\"RGS\"] \n"
   ]
  },
  {
   "cell_type": "markdown",
   "id": "91dd5ef3",
   "metadata": {},
   "source": [
    "# The Whole Project Outline"
   ]
  },
  {
   "cell_type": "code",
   "execution_count": null,
   "id": "01dc71bc",
   "metadata": {},
   "outputs": [],
   "source": []
  },
  {
   "cell_type": "code",
   "execution_count": null,
   "id": "07b995b2",
   "metadata": {},
   "outputs": [],
   "source": []
  },
  {
   "cell_type": "markdown",
   "id": "064713cd",
   "metadata": {},
   "source": [
    "# Brief RESULTS\n"
   ]
  },
  {
   "cell_type": "markdown",
   "id": "0d5b383b",
   "metadata": {},
   "source": [
    "#The long/short portfolio"
   ]
  },
  {
   "cell_type": "markdown",
   "id": "cf5ddb7e",
   "metadata": {},
   "source": [
    "||   |    |\n",
    "|:----|:----|:----|\n",
    "|             ('AAPL'| 0.00287)||\n",
    "|             ('ACN'| 0.21881)| |\n",
    "|             ('AMD'| -0.024)| |\n",
    "|             ('AMZN'| 0.0099)| |\n",
    "|             ('COST'| 0.09772)| |\n",
    "|             ('DIS'| -0.01793)| |\n",
    "|             ('F'| -0.01975)| |\n",
    "|             ('GILD'| 0.04943)| |\n",
    "|             ('JPM'| -0.04252)| |\n",
    "|             ('KO'| 0.12877)| |\n",
    "|             ('LUV'| 0.02334)| |\n",
    "|             ('MA'| 0.2196)| |\n",
    "|             ('MSFT'| 0.00848)| |\n",
    "|             ('NVDA'| -0.01444)| |\n",
    "|             ('PFE'| 0.07025)| |\n",
    "|             ('RGS'| 0.01736)| |\n",
    "|             ('SOS'| 0.04845)| |\n",
    "|             ('TSLA'| 0.11267)| |\n",
    "|             ('UNH'| 0.03353)| |\n",
    "|             ('XOM'| 0.07744)]|\n"
   ]
  },
  {
   "cell_type": "markdown",
   "id": "398159c2",
   "metadata": {},
   "source": [
    "Annual volatility: 12.0%\n",
    "(Note that this is an in sample estimate and may have very little resemblance to how the portfolio actually performs!)\n"
   ]
  },
  {
   "cell_type": "markdown",
   "id": "1e07b48d",
   "metadata": {},
   "source": [
    "Assume, we had $20,000 to invest and would like our portfolio to be 130/30 long/short. \n"
   ]
  },
  {
   "cell_type": "markdown",
   "id": "f168c1e8",
   "metadata": {},
   "source": [
    "#Constructed the actual allocation as follows:"
   ]
  },
  {
   "cell_type": "markdown",
   "id": "ccc0d691",
   "metadata": {},
   "source": [
    "||   |    |\n",
    "|:----|:----|:----|\n",
    "|             ('AAPL'| 1)||\n",
    "|             ('ACN'| 13)| |\n",
    "|             ('AMD'| -11)| |\n",
    "|             ('AMZN'| 2)| |\n",
    "|             ('COST'| 4)| |\n",
    "|             ('DIS'| -10)| |\n",
    "|             ('F'| -86)| |\n",
    "|             ('GILD'| 11)| |\n",
    "|             ('JPM'| -16)| |\n",
    "|             ('KO'| 3)| |\n",
    "|             ('LUV'| 14)| |\n",
    "|             ('MA'| 10)| |\n",
    "|             ('MSFT'| 2)| |\n",
    "|             ('NVDA'| -2)| |\n",
    "|             ('PFE'| 32)| |\n",
    "|             ('RGS'| 307)| |\n",
    "|             ('SOS'| 216)| |\n",
    "|             ('TSLA'| 11)| |\n",
    "|             ('UNH'| 1)| |\n",
    "|             ('XOM'| 13)]|\n"
   ]
  },
  {
   "cell_type": "markdown",
   "id": "de852a3a",
   "metadata": {},
   "source": [
    "\n",
    "#Constructed the portfolio allocation( maximing return for a given volatility=15%,with L2 regularisation)\n",
    " "
   ]
  },
  {
   "cell_type": "markdown",
   "id": "d4943545",
   "metadata": {},
   "source": [
    "|[('AAPL'| 0.03212)| |\n",
    "|:----|:----|:----|\n",
    "|             ('ACN'| 0.06016)| |\n",
    "|             ('AMD'| 0.02457)| |\n",
    "|             ('AMZN'| 0.05828)| |\n",
    "|             ('COST'| 0.0524)| |\n",
    "|             ('DIS'| 0.02439)| |\n",
    "|             ('F'| 0.01999)| |\n",
    "|             ('GILD'| 0.04772)| |\n",
    "|             ('JPM'| 0.02607)| |\n",
    "|             ('KO'| 0.0476)| |\n",
    "|             ('LUV'| 0.03057)| |\n",
    "|             ('MA'| 0.08082)| |\n",
    "|             ('MSFT'| 0.03613)| |\n",
    "|             ('NVDA'| 0.06298)| |\n",
    "|             ('PFE'| 0.03603)| |\n",
    "|             ('RGS'| 0.03943)| |\n",
    "|             ('SOS'| 0.17097)| |\n",
    "|             ('TSLA'| 0.08874)| |\n",
    "|             ('UNH'| 0.03853)| |\n",
    "|             ('XOM'| 0.0225)])|\n"
   ]
  },
  {
   "cell_type": "markdown",
   "id": "80ea85dc",
   "metadata": {},
   "source": [
    "#s4_7.png"
   ]
  },
  {
   "cell_type": "markdown",
   "id": "91d3d5b5",
   "metadata": {},
   "source": [
    "Expected annual return: 31.6%\n",
    "Annual volatility: 15.0%\n",
    "Sharpe Ratio: 1.97.\n"
   ]
  },
  {
   "cell_type": "markdown",
   "id": "25a81d12",
   "metadata": {},
   "source": [
    "#Constructed fortpolio with minimise risk for 7% return."
   ]
  },
  {
   "cell_type": "markdown",
   "id": "40bc3b89",
   "metadata": {},
   "source": [
    "|[('AAPL'| 0.0026)| |\n",
    "|:----|:----|:----|\n",
    "|             ('ACN'| -0.0141)| |\n",
    "|             ('AMD'| 0.02232)| |\n",
    "|             ('AMZN'| 0.01807)| |\n",
    "|             ('COST'| -0.01903)| |\n",
    "|             ('DIS'| -0.01037)| |\n",
    "|             ('F'| -0.00937)| |\n",
    "|             ('GILD'| -0.00791)| |\n",
    "|             ('JPM'| -0.00453)| |\n",
    "|             ('KO'| -0.02938)| |\n",
    "|             ('LUV'| -0.01077)| |\n",
    "|             ('MA'| -0.00182)| |\n",
    "|             ('MSFT'| -0.0055)| |\n",
    "|             ('NVDA'| 0.03074)| |\n",
    "|             ('PFE'| -0.02269)| |\n",
    "|             ('RGS'| -0.00565)| |\n",
    "|             ('SOS'| 0.10444)| |\n",
    "|             ('TSLA'| 0.00805)| |\n",
    "|             ('UNH'| -0.01451)| |\n",
    "|             ('XOM'| -0.03057)])|\n"
   ]
  },
  {
   "cell_type": "markdown",
   "id": "6ebbecaa",
   "metadata": {},
   "source": [
    "Expected annual return: 7.0%\n",
    "Annual volatility: 5.5%\n",
    "Sharpe Ratio: 0.91"
   ]
  },
  {
   "cell_type": "markdown",
   "id": "a1ebbec9",
   "metadata": {},
   "source": [
    "s4_8.png"
   ]
  },
  {
   "cell_type": "markdown",
   "id": "7a30bf2a",
   "metadata": {},
   "source": [
    "# Discussion"
   ]
  },
  {
   "cell_type": "markdown",
   "id": "63a7e51b",
   "metadata": {},
   "source": [
    "The above predictions were generated by employing Mean-variance optimization methods and utilizing various machine learning (ML) models to optimize portfolios. The calculations require selecting stocks for the portfolio, which is based on major stock models and recommendations derived from investigating the stock cycle.\n",
    "\n",
    "We strongly believe that by incorporating historical stock data and applying supervised learning algorithms, the stock selection process can be improved. Additionally, certain trading techniques can be utilized to provide insights into the properties of the models.\n",
    "\n",
    "The results presented above were obtained using the following techniques: "
   ]
  },
  {
   "cell_type": "markdown",
   "id": "ab512d58",
   "metadata": {},
   "source": [
    "* Calculating and visualising the covariance matrix. \n",
    "\n",
    "* Optimising a long/short portfolio to minimise total variance.\n",
    "\n",
    "* Optimising a portfolio to maximise the Sharpe ratio, subject to sector constraints.\n",
    "\n",
    "* Optimising a portfolio to maximise return for a given risk, subject to sector constraints.     with an L2 regularisation objective\n",
    "\n",
    "* Optimising a market-neutral portfolio to minimise risk for a given level of return.\n"
   ]
  },
  {
   "cell_type": "code",
   "execution_count": null,
   "id": "00226459",
   "metadata": {},
   "outputs": [],
   "source": [
    "By employing these techniques, the project aims to enhance portfolio optimization and achieve better performance in stock selection based on the investigation of stock cycles and the application of ML models."
   ]
  },
  {
   "cell_type": "markdown",
   "id": "2734cada",
   "metadata": {},
   "source": [
    "# Alternative Algorithmic Trading Libraries and Platforms"
   ]
  },
  {
   "cell_type": "markdown",
   "id": "2c25505c",
   "metadata": {},
   "source": [
    "\n",
    "- [QuantConnect](https://www.quantconnect.com/)\n",
    "- [WorldQuant](https://www.worldquantvrc.com/en/cms/wqc/home/)\n",
    "- Python Algorithmic Trading Library [PyAlgoTrade](http://gbeced.github.io/pyalgotrade/)\n",
    "- [pybacktest](https://github.com/ematvey/pybacktest)\n",
    "- [Trading with Python](http://www.tradingwithpython.com/)\n",
    "- [Interactive Brokers](https://www.interactivebrokers.com/en/index.php?f=5041)\n",
    "- matplotlib [docs](https://github.com/matplotlib/matplotlib)\n",
    "- numpy [docs](https://github.com/numpy/numpy)\n",
    "- pandas [docs](https://github.com/pydata/pandas)\n",
    "- scipy [docs](https://github.com/scipy/scipy)\n",
    "- scikit-learn [docs](https://scikit-learn.org/stable/user_guide.html)\n",
    "- LightGBM [docs](https://lightgbm.readthedocs.io/en/latest/)\n",
    "- CatBoost [docs](https://catboost.ai/docs/concepts/about.html)\n",
    "- TensorFlow [docs](https://www.tensorflow.org/guide)\n",
    "- PyTorch [docs](https://pytorch.org/docs/stable/index.html)\n",
    "- Machine Learning Financial Laboratory (mlfinlab) [docs]     (https://mlfinlab.readthedocs.io/en/latest/)\n",
    "- seaborn [docs](https://github.com/mwaskom/seaborn)\n",
    "- statsmodels [docs](https://github.com/statsmodels/statsmodels)\n",
    "- [Boosting numpy: Why BLAS Matters](http://markus-beuckelmann.de/blog/boosting-numpy-   blas.html)\n",
    "\n"
   ]
  },
  {
   "cell_type": "markdown",
   "id": "f5cf5bc7",
   "metadata": {},
   "source": [
    "# For future Projects "
   ]
  },
  {
   "cell_type": "markdown",
   "id": "2f910e82",
   "metadata": {},
   "source": [
    "In future projects, the main objective will be to establish a solid foundation for algorithmic trading. The focus will be on investigating libraries and frameworks that can be utilized to implement the foundational models based on stochastic Levy processes.\n",
    "\n",
    "The project will involve rigorous testing of machine learning models and various risk analysis methods. Once these models and methods have been thoroughly evaluated and validated, the next step will be to advance the project to the next level by incorporating the application of Levy processes.\n",
    "\n",
    "The implementation of Levy processes will provide a more advanced and sophisticated approach to algorithmic trading. This will involve leveraging the principles and characteristics of Levy processes to enhance the accuracy and effectiveness of the trading models and strategies developed.\n",
    "\n",
    "By incorporating the use of Levy processes, future projects can further optimize and refine algorithmic trading strategies, potentially improving risk management, return generation, and overall performance in the financial markets.\n",
    "\n"
   ]
  }
 ],
 "metadata": {
  "kernelspec": {
   "display_name": "Python 3 (ipykernel)",
   "language": "python",
   "name": "python3"
  },
  "language_info": {
   "codemirror_mode": {
    "name": "ipython",
    "version": 3
   },
   "file_extension": ".py",
   "mimetype": "text/x-python",
   "name": "python",
   "nbconvert_exporter": "python",
   "pygments_lexer": "ipython3",
   "version": "3.8.16"
  }
 },
 "nbformat": 4,
 "nbformat_minor": 5
}
