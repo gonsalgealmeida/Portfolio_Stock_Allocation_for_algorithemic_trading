{
 "cells": [
  {
   "cell_type": "code",
   "execution_count": 1,
   "metadata": {
    "colab": {
     "base_uri": "https://localhost:8080/"
    },
    "id": "sXdbiHc0AnfS",
    "outputId": "5ced30c2-5248-4827-a15d-955380574b51"
   },
   "outputs": [
    {
     "name": "stdout",
     "output_type": "stream",
     "text": [
      "Requirement already satisfied: pandas in /Users/surekaalmeida/opt/anaconda3/envs/env_zipline/lib/python3.8/site-packages (2.0.1)\n",
      "Requirement already satisfied: numpy in /Users/surekaalmeida/opt/anaconda3/envs/env_zipline/lib/python3.8/site-packages (1.23.5)\n",
      "Requirement already satisfied: matplotlib in /Users/surekaalmeida/opt/anaconda3/envs/env_zipline/lib/python3.8/site-packages (3.7.1)\n",
      "Requirement already satisfied: yfinance in /Users/surekaalmeida/opt/anaconda3/envs/env_zipline/lib/python3.8/site-packages (0.2.18)\n",
      "Requirement already satisfied: PyPortfolioOpt in /Users/surekaalmeida/opt/anaconda3/envs/env_zipline/lib/python3.8/site-packages (1.5.4)\n",
      "Requirement already satisfied: tzdata>=2022.1 in /Users/surekaalmeida/opt/anaconda3/envs/env_zipline/lib/python3.8/site-packages (from pandas) (2023.3)\n",
      "Requirement already satisfied: python-dateutil>=2.8.2 in /Users/surekaalmeida/opt/anaconda3/envs/env_zipline/lib/python3.8/site-packages (from pandas) (2.8.2)\n",
      "Requirement already satisfied: pytz>=2020.1 in /Users/surekaalmeida/opt/anaconda3/envs/env_zipline/lib/python3.8/site-packages (from pandas) (2022.7.1)\n",
      "Requirement already satisfied: pyparsing>=2.3.1 in /Users/surekaalmeida/opt/anaconda3/envs/env_zipline/lib/python3.8/site-packages (from matplotlib) (3.0.9)\n",
      "Requirement already satisfied: packaging>=20.0 in /Users/surekaalmeida/opt/anaconda3/envs/env_zipline/lib/python3.8/site-packages (from matplotlib) (23.0)\n",
      "Requirement already satisfied: importlib-resources>=3.2.0 in /Users/surekaalmeida/opt/anaconda3/envs/env_zipline/lib/python3.8/site-packages (from matplotlib) (5.2.0)\n",
      "Requirement already satisfied: fonttools>=4.22.0 in /Users/surekaalmeida/opt/anaconda3/envs/env_zipline/lib/python3.8/site-packages (from matplotlib) (4.39.2)\n",
      "Requirement already satisfied: contourpy>=1.0.1 in /Users/surekaalmeida/opt/anaconda3/envs/env_zipline/lib/python3.8/site-packages (from matplotlib) (1.0.7)\n",
      "Requirement already satisfied: pillow>=6.2.0 in /Users/surekaalmeida/opt/anaconda3/envs/env_zipline/lib/python3.8/site-packages (from matplotlib) (9.4.0)\n",
      "Requirement already satisfied: cycler>=0.10 in /Users/surekaalmeida/opt/anaconda3/envs/env_zipline/lib/python3.8/site-packages (from matplotlib) (0.11.0)\n",
      "Requirement already satisfied: kiwisolver>=1.0.1 in /Users/surekaalmeida/opt/anaconda3/envs/env_zipline/lib/python3.8/site-packages (from matplotlib) (1.4.4)\n",
      "Requirement already satisfied: requests>=2.26 in /Users/surekaalmeida/opt/anaconda3/envs/env_zipline/lib/python3.8/site-packages (from yfinance) (2.28.1)\n",
      "Requirement already satisfied: frozendict>=2.3.4 in /Users/surekaalmeida/opt/anaconda3/envs/env_zipline/lib/python3.8/site-packages (from yfinance) (2.3.8)\n",
      "Requirement already satisfied: html5lib>=1.1 in /Users/surekaalmeida/opt/anaconda3/envs/env_zipline/lib/python3.8/site-packages (from yfinance) (1.1)\n",
      "Requirement already satisfied: beautifulsoup4>=4.11.1 in /Users/surekaalmeida/opt/anaconda3/envs/env_zipline/lib/python3.8/site-packages (from yfinance) (4.11.1)\n",
      "Requirement already satisfied: appdirs>=1.4.4 in /Users/surekaalmeida/opt/anaconda3/envs/env_zipline/lib/python3.8/site-packages (from yfinance) (1.4.4)\n",
      "Requirement already satisfied: lxml>=4.9.1 in /Users/surekaalmeida/opt/anaconda3/envs/env_zipline/lib/python3.8/site-packages (from yfinance) (4.9.1)\n",
      "Requirement already satisfied: cryptography>=3.3.2 in /Users/surekaalmeida/opt/anaconda3/envs/env_zipline/lib/python3.8/site-packages (from yfinance) (39.0.1)\n",
      "Requirement already satisfied: multitasking>=0.0.7 in /Users/surekaalmeida/opt/anaconda3/envs/env_zipline/lib/python3.8/site-packages (from yfinance) (0.0.9)\n",
      "Requirement already satisfied: scipy<2.0,>=1.3 in /Users/surekaalmeida/opt/anaconda3/envs/env_zipline/lib/python3.8/site-packages (from PyPortfolioOpt) (1.10.0)\n",
      "Requirement already satisfied: cvxpy<2.0.0,>=1.1.10 in /Users/surekaalmeida/opt/anaconda3/envs/env_zipline/lib/python3.8/site-packages (from PyPortfolioOpt) (1.3.1)\n",
      "Requirement already satisfied: soupsieve>1.2 in /Users/surekaalmeida/opt/anaconda3/envs/env_zipline/lib/python3.8/site-packages (from beautifulsoup4>=4.11.1->yfinance) (2.3.2.post1)\n",
      "Requirement already satisfied: cffi>=1.12 in /Users/surekaalmeida/opt/anaconda3/envs/env_zipline/lib/python3.8/site-packages (from cryptography>=3.3.2->yfinance) (1.15.1)\n",
      "Requirement already satisfied: scs>=1.1.6 in /Users/surekaalmeida/opt/anaconda3/envs/env_zipline/lib/python3.8/site-packages (from cvxpy<2.0.0,>=1.1.10->PyPortfolioOpt) (3.2.3)\n",
      "Requirement already satisfied: osqp>=0.4.1 in /Users/surekaalmeida/opt/anaconda3/envs/env_zipline/lib/python3.8/site-packages (from cvxpy<2.0.0,>=1.1.10->PyPortfolioOpt) (0.6.2.post0)\n",
      "Requirement already satisfied: setuptools>65.5.1 in /Users/surekaalmeida/opt/anaconda3/envs/env_zipline/lib/python3.8/site-packages (from cvxpy<2.0.0,>=1.1.10->PyPortfolioOpt) (65.6.3)\n",
      "Requirement already satisfied: ecos>=2 in /Users/surekaalmeida/opt/anaconda3/envs/env_zipline/lib/python3.8/site-packages (from cvxpy<2.0.0,>=1.1.10->PyPortfolioOpt) (2.0.11)\n",
      "Requirement already satisfied: webencodings in /Users/surekaalmeida/opt/anaconda3/envs/env_zipline/lib/python3.8/site-packages (from html5lib>=1.1->yfinance) (0.5.1)\n",
      "Requirement already satisfied: six>=1.9 in /Users/surekaalmeida/opt/anaconda3/envs/env_zipline/lib/python3.8/site-packages (from html5lib>=1.1->yfinance) (1.16.0)\n",
      "Requirement already satisfied: zipp>=3.1.0 in /Users/surekaalmeida/opt/anaconda3/envs/env_zipline/lib/python3.8/site-packages (from importlib-resources>=3.2.0->matplotlib) (3.11.0)\n",
      "Requirement already satisfied: certifi>=2017.4.17 in /Users/surekaalmeida/opt/anaconda3/envs/env_zipline/lib/python3.8/site-packages (from requests>=2.26->yfinance) (2022.12.7)\n",
      "Requirement already satisfied: urllib3<1.27,>=1.21.1 in /Users/surekaalmeida/opt/anaconda3/envs/env_zipline/lib/python3.8/site-packages (from requests>=2.26->yfinance) (1.26.14)\n",
      "Requirement already satisfied: idna<4,>=2.5 in /Users/surekaalmeida/opt/anaconda3/envs/env_zipline/lib/python3.8/site-packages (from requests>=2.26->yfinance) (3.4)\n",
      "Requirement already satisfied: charset-normalizer<3,>=2 in /Users/surekaalmeida/opt/anaconda3/envs/env_zipline/lib/python3.8/site-packages (from requests>=2.26->yfinance) (2.0.4)\n",
      "Requirement already satisfied: pycparser in /Users/surekaalmeida/opt/anaconda3/envs/env_zipline/lib/python3.8/site-packages (from cffi>=1.12->cryptography>=3.3.2->yfinance) (2.21)\n",
      "Requirement already satisfied: qdldl in /Users/surekaalmeida/opt/anaconda3/envs/env_zipline/lib/python3.8/site-packages (from osqp>=0.4.1->cvxpy<2.0.0,>=1.1.10->PyPortfolioOpt) (0.1.5.post2)\n"
     ]
    }
   ],
   "source": [
    "!pip install pandas numpy matplotlib yfinance PyPortfolioOpt\n",
    "import os\n",
    "if not os.path.isdir('data'):\n",
    "    os.system('git clone https://github.com/robertmartin8/PyPortfolioOpt.git')\n",
    "    os.chdir('PyPortfolioOpt/cookbook')"
   ]
  },
  {
   "cell_type": "code",
   "execution_count": 2,
   "metadata": {
    "id": "bs5cBlLfAbNf"
   },
   "outputs": [],
   "source": [
    "import numpy as np\n",
    "import pandas as pd\n",
    "import matplotlib.pyplot as plt\n",
    "import yfinance as yf"
   ]
  },
  {
   "cell_type": "code",
   "execution_count": 3,
   "metadata": {
    "id": "_2kfAeqOAbNg"
   },
   "outputs": [],
   "source": [
    "tickers = [\"MSFT\", \"AMZN\", \"KO\", \"MA\", \"COST\", \n",
    "           \"LUV\", \"XOM\", \"PFE\", \"JPM\", \"UNH\", \n",
    "           \"ACN\", \"DIS\", \"GILD\", \"F\", \"TSLA\",\"NVDA\",\"AAPL\",\"AMD\",\"F\",\"SOS\",\"RGS\"] "
   ]
  },
  {
   "cell_type": "code",
   "execution_count": 4,
   "metadata": {
    "colab": {
     "base_uri": "https://localhost:8080/",
     "height": 255
    },
    "id": "ghoX_hFkAbNg",
    "outputId": "6104b7ab-5a41-47c3-9d2b-5787517a4b99"
   },
   "outputs": [
    {
     "name": "stdout",
     "output_type": "stream",
     "text": [
      "[*********************100%***********************]  20 of 20 completed\n"
     ]
    },
    {
     "data": {
      "text/html": [
       "<div>\n",
       "<style scoped>\n",
       "    .dataframe tbody tr th:only-of-type {\n",
       "        vertical-align: middle;\n",
       "    }\n",
       "\n",
       "    .dataframe tbody tr th {\n",
       "        vertical-align: top;\n",
       "    }\n",
       "\n",
       "    .dataframe thead th {\n",
       "        text-align: right;\n",
       "    }\n",
       "</style>\n",
       "<table border=\"1\" class=\"dataframe\">\n",
       "  <thead>\n",
       "    <tr style=\"text-align: right;\">\n",
       "      <th></th>\n",
       "      <th>AAPL</th>\n",
       "      <th>ACN</th>\n",
       "      <th>AMD</th>\n",
       "      <th>AMZN</th>\n",
       "      <th>COST</th>\n",
       "      <th>DIS</th>\n",
       "      <th>F</th>\n",
       "      <th>GILD</th>\n",
       "      <th>JPM</th>\n",
       "      <th>KO</th>\n",
       "      <th>LUV</th>\n",
       "      <th>MA</th>\n",
       "      <th>MSFT</th>\n",
       "      <th>NVDA</th>\n",
       "      <th>PFE</th>\n",
       "      <th>RGS</th>\n",
       "      <th>SOS</th>\n",
       "      <th>TSLA</th>\n",
       "      <th>UNH</th>\n",
       "      <th>XOM</th>\n",
       "    </tr>\n",
       "    <tr>\n",
       "      <th>Date</th>\n",
       "      <th></th>\n",
       "      <th></th>\n",
       "      <th></th>\n",
       "      <th></th>\n",
       "      <th></th>\n",
       "      <th></th>\n",
       "      <th></th>\n",
       "      <th></th>\n",
       "      <th></th>\n",
       "      <th></th>\n",
       "      <th></th>\n",
       "      <th></th>\n",
       "      <th></th>\n",
       "      <th></th>\n",
       "      <th></th>\n",
       "      <th></th>\n",
       "      <th></th>\n",
       "      <th></th>\n",
       "      <th></th>\n",
       "      <th></th>\n",
       "    </tr>\n",
       "  </thead>\n",
       "  <tbody>\n",
       "    <tr>\n",
       "      <th>2023-05-16</th>\n",
       "      <td>172.070007</td>\n",
       "      <td>279.190002</td>\n",
       "      <td>101.480003</td>\n",
       "      <td>113.400002</td>\n",
       "      <td>496.149994</td>\n",
       "      <td>90.980003</td>\n",
       "      <td>11.25</td>\n",
       "      <td>78.320000</td>\n",
       "      <td>134.320007</td>\n",
       "      <td>63.220001</td>\n",
       "      <td>28.540001</td>\n",
       "      <td>380.239990</td>\n",
       "      <td>311.059998</td>\n",
       "      <td>292.130005</td>\n",
       "      <td>37.009998</td>\n",
       "      <td>1.04</td>\n",
       "      <td>3.92</td>\n",
       "      <td>166.520004</td>\n",
       "      <td>479.720001</td>\n",
       "      <td>102.519997</td>\n",
       "    </tr>\n",
       "    <tr>\n",
       "      <th>2023-05-17</th>\n",
       "      <td>172.690002</td>\n",
       "      <td>284.630005</td>\n",
       "      <td>103.750000</td>\n",
       "      <td>115.500000</td>\n",
       "      <td>495.000000</td>\n",
       "      <td>92.769997</td>\n",
       "      <td>11.50</td>\n",
       "      <td>78.809998</td>\n",
       "      <td>138.449997</td>\n",
       "      <td>63.150002</td>\n",
       "      <td>29.879999</td>\n",
       "      <td>387.000000</td>\n",
       "      <td>314.000000</td>\n",
       "      <td>301.779999</td>\n",
       "      <td>36.750000</td>\n",
       "      <td>1.04</td>\n",
       "      <td>3.93</td>\n",
       "      <td>173.860001</td>\n",
       "      <td>484.809998</td>\n",
       "      <td>104.820000</td>\n",
       "    </tr>\n",
       "    <tr>\n",
       "      <th>2023-05-18</th>\n",
       "      <td>175.050003</td>\n",
       "      <td>287.480011</td>\n",
       "      <td>107.930000</td>\n",
       "      <td>118.150002</td>\n",
       "      <td>498.100006</td>\n",
       "      <td>93.760002</td>\n",
       "      <td>11.64</td>\n",
       "      <td>78.209999</td>\n",
       "      <td>139.500000</td>\n",
       "      <td>62.799999</td>\n",
       "      <td>29.959999</td>\n",
       "      <td>392.019989</td>\n",
       "      <td>318.519989</td>\n",
       "      <td>316.779999</td>\n",
       "      <td>36.480000</td>\n",
       "      <td>1.02</td>\n",
       "      <td>4.00</td>\n",
       "      <td>176.889999</td>\n",
       "      <td>479.230011</td>\n",
       "      <td>105.769997</td>\n",
       "    </tr>\n",
       "    <tr>\n",
       "      <th>2023-05-19</th>\n",
       "      <td>175.160004</td>\n",
       "      <td>289.910004</td>\n",
       "      <td>105.820000</td>\n",
       "      <td>116.250000</td>\n",
       "      <td>496.519989</td>\n",
       "      <td>91.349998</td>\n",
       "      <td>11.65</td>\n",
       "      <td>78.849998</td>\n",
       "      <td>139.179993</td>\n",
       "      <td>62.830002</td>\n",
       "      <td>29.480000</td>\n",
       "      <td>385.570007</td>\n",
       "      <td>318.339996</td>\n",
       "      <td>312.640015</td>\n",
       "      <td>36.770000</td>\n",
       "      <td>1.01</td>\n",
       "      <td>3.89</td>\n",
       "      <td>180.139999</td>\n",
       "      <td>478.820007</td>\n",
       "      <td>106.260002</td>\n",
       "    </tr>\n",
       "    <tr>\n",
       "      <th>2023-05-22</th>\n",
       "      <td>174.199997</td>\n",
       "      <td>290.950012</td>\n",
       "      <td>108.000000</td>\n",
       "      <td>115.010002</td>\n",
       "      <td>491.869995</td>\n",
       "      <td>91.820000</td>\n",
       "      <td>11.63</td>\n",
       "      <td>78.620003</td>\n",
       "      <td>138.029999</td>\n",
       "      <td>61.509998</td>\n",
       "      <td>29.320000</td>\n",
       "      <td>384.529999</td>\n",
       "      <td>321.179993</td>\n",
       "      <td>311.760010</td>\n",
       "      <td>38.750000</td>\n",
       "      <td>1.02</td>\n",
       "      <td>4.02</td>\n",
       "      <td>188.869995</td>\n",
       "      <td>480.619995</td>\n",
       "      <td>104.970001</td>\n",
       "    </tr>\n",
       "  </tbody>\n",
       "</table>\n",
       "</div>"
      ],
      "text/plain": [
       "                  AAPL         ACN         AMD        AMZN        COST   \n",
       "Date                                                                     \n",
       "2023-05-16  172.070007  279.190002  101.480003  113.400002  496.149994  \\\n",
       "2023-05-17  172.690002  284.630005  103.750000  115.500000  495.000000   \n",
       "2023-05-18  175.050003  287.480011  107.930000  118.150002  498.100006   \n",
       "2023-05-19  175.160004  289.910004  105.820000  116.250000  496.519989   \n",
       "2023-05-22  174.199997  290.950012  108.000000  115.010002  491.869995   \n",
       "\n",
       "                  DIS      F       GILD         JPM         KO        LUV   \n",
       "Date                                                                        \n",
       "2023-05-16  90.980003  11.25  78.320000  134.320007  63.220001  28.540001  \\\n",
       "2023-05-17  92.769997  11.50  78.809998  138.449997  63.150002  29.879999   \n",
       "2023-05-18  93.760002  11.64  78.209999  139.500000  62.799999  29.959999   \n",
       "2023-05-19  91.349998  11.65  78.849998  139.179993  62.830002  29.480000   \n",
       "2023-05-22  91.820000  11.63  78.620003  138.029999  61.509998  29.320000   \n",
       "\n",
       "                    MA        MSFT        NVDA        PFE   RGS   SOS   \n",
       "Date                                                                    \n",
       "2023-05-16  380.239990  311.059998  292.130005  37.009998  1.04  3.92  \\\n",
       "2023-05-17  387.000000  314.000000  301.779999  36.750000  1.04  3.93   \n",
       "2023-05-18  392.019989  318.519989  316.779999  36.480000  1.02  4.00   \n",
       "2023-05-19  385.570007  318.339996  312.640015  36.770000  1.01  3.89   \n",
       "2023-05-22  384.529999  321.179993  311.760010  38.750000  1.02  4.02   \n",
       "\n",
       "                  TSLA         UNH         XOM  \n",
       "Date                                            \n",
       "2023-05-16  166.520004  479.720001  102.519997  \n",
       "2023-05-17  173.860001  484.809998  104.820000  \n",
       "2023-05-18  176.889999  479.230011  105.769997  \n",
       "2023-05-19  180.139999  478.820007  106.260002  \n",
       "2023-05-22  188.869995  480.619995  104.970001  "
      ]
     },
     "execution_count": 4,
     "metadata": {},
     "output_type": "execute_result"
    }
   ],
   "source": [
    "ohlc = yf.download(tickers, period=\"max\")\n",
    "prices = ohlc[\"Adj Close\"]\n",
    "prices.tail()"
   ]
  },
  {
   "cell_type": "code",
   "execution_count": 5,
   "metadata": {
    "colab": {
     "base_uri": "https://localhost:8080/"
    },
    "id": "WmtKlXfLAbNi",
    "outputId": "ea14863a-b8a0-4c19-9c85-bea9fbdf29bc"
   },
   "outputs": [
    {
     "name": "stdout",
     "output_type": "stream",
     "text": [
      "[*********************100%***********************]  1 of 1 completed\n"
     ]
    },
    {
     "data": {
      "text/plain": [
       "Date\n",
       "1993-01-29    25.122347\n",
       "1993-02-01    25.301016\n",
       "1993-02-02    25.354618\n",
       "1993-02-03    25.622652\n",
       "1993-02-04    25.729853\n",
       "Name: Adj Close, dtype: float64"
      ]
     },
     "execution_count": 5,
     "metadata": {},
     "output_type": "execute_result"
    }
   ],
   "source": [
    "market_prices = yf.download(\"SPY\", period=\"max\")[\"Adj Close\"]\n",
    "market_prices.head()"
   ]
  },
  {
   "cell_type": "code",
   "execution_count": 6,
   "metadata": {
    "colab": {
     "base_uri": "https://localhost:8080/"
    },
    "id": "rZwXHHxxAbNi",
    "outputId": "dee319be-67e2-44e7-e576-96c2b934d139"
   },
   "outputs": [
    {
     "data": {
      "text/plain": [
       "{'MSFT': 2388130529280,\n",
       " 'AMZN': 1180048687104,\n",
       " 'KO': 266004905984,\n",
       " 'MA': 364391759872,\n",
       " 'COST': 218135986176,\n",
       " 'LUV': 17447540736,\n",
       " 'XOM': 424391639040,\n",
       " 'PFE': 218755760128,\n",
       " 'JPM': 403363659776,\n",
       " 'UNH': 447472599040,\n",
       " 'ACN': 183892049920,\n",
       " 'DIS': 167782678528,\n",
       " 'GILD': 98066661376,\n",
       " 'F': 46528954368,\n",
       " 'TSLA': 598623453184,\n",
       " 'NVDA': 771023044608,\n",
       " 'AAPL': 2739939573760,\n",
       " 'AMD': 173918879744,\n",
       " 'SOS': 25847354,\n",
       " 'RGS': 46476604}"
      ]
     },
     "execution_count": 6,
     "metadata": {},
     "output_type": "execute_result"
    }
   ],
   "source": [
    "mcaps = {}\n",
    "for t in tickers:\n",
    "    stock = yf.Ticker(t)\n",
    "    mcaps[t] = stock.info[\"marketCap\"]\n",
    "mcaps"
   ]
  },
  {
   "cell_type": "markdown",
   "metadata": {
    "id": "w6cnqTB8AbNi"
   },
   "source": [
    "## Constructing the prior"
   ]
  },
  {
   "cell_type": "code",
   "execution_count": 7,
   "metadata": {
    "colab": {
     "base_uri": "https://localhost:8080/",
     "height": 35
    },
    "id": "KMyL_d0mAbNj",
    "outputId": "83c8ff0b-6ac3-4c80-9bea-8f6216384238"
   },
   "outputs": [
    {
     "data": {
      "text/plain": [
       "'1.5.4'"
      ]
     },
     "execution_count": 7,
     "metadata": {},
     "output_type": "execute_result"
    }
   ],
   "source": [
    "import pypfopt\n",
    "pypfopt.__version__"
   ]
  },
  {
   "cell_type": "code",
   "execution_count": 8,
   "metadata": {
    "colab": {
     "base_uri": "https://localhost:8080/"
    },
    "id": "V35ccSUSAbNj",
    "outputId": "bdc6d9bc-33c2-47b6-ac60-c43a4cfed6b5"
   },
   "outputs": [
    {
     "data": {
      "text/plain": [
       "2.5446676255257508"
      ]
     },
     "execution_count": 8,
     "metadata": {},
     "output_type": "execute_result"
    }
   ],
   "source": [
    "from pypfopt import black_litterman, risk_models\n",
    "from pypfopt import BlackLittermanModel, plotting\n",
    "\n",
    "S = risk_models.CovarianceShrinkage(prices).ledoit_wolf()\n",
    "delta = black_litterman.market_implied_risk_aversion(market_prices)\n",
    "delta"
   ]
  },
  {
   "cell_type": "code",
   "execution_count": 9,
   "metadata": {
    "colab": {
     "base_uri": "https://localhost:8080/",
     "height": 297
    },
    "id": "tgz3bOltAbNj",
    "outputId": "41740df8-87ca-45c7-b0ef-4af343ae3b0a"
   },
   "outputs": [
    {
     "data": {
      "image/png": "[encoded data removed]",
      "text/plain": [
       "<Figure size 640x480 with 2 Axes>"
      ]
     },
     "metadata": {},
     "output_type": "display_data"
    }
   ],
   "source": [
    "plotting.plot_covariance(S, plot_correlation=True);"
   ]
  },
  {
   "cell_type": "code",
   "execution_count": 10,
   "metadata": {
    "colab": {
     "base_uri": "https://localhost:8080/"
    },
    "id": "qknxazUhAbNk",
    "outputId": "eb6b5bdf-7a31-4c76-90e0-ca2a751126ee"
   },
   "outputs": [
    {
     "data": {
      "text/plain": [
       "AAPL    0.166818\n",
       "ACN     0.057427\n",
       "AMD     0.142211\n",
       "AMZN    0.120801\n",
       "COST    0.071186\n",
       "DIS     0.085415\n",
       "F       0.085796\n",
       "GILD    0.068074\n",
       "JPM     0.095290\n",
       "KO      0.058749\n",
       "LUV     0.075075\n",
       "MA      0.057659\n",
       "MSFT    0.116185\n",
       "NVDA    0.121548\n",
       "PFE     0.063841\n",
       "RGS     0.062297\n",
       "SOS     0.037549\n",
       "TSLA    0.057381\n",
       "UNH     0.073805\n",
       "XOM     0.064365\n",
       "dtype: float64"
      ]
     },
     "execution_count": 10,
     "metadata": {},
     "output_type": "execute_result"
    }
   ],
   "source": [
    "market_prior = black_litterman.market_implied_prior_returns(mcaps, delta, S)\n",
    "market_prior"
   ]
  },
  {
   "cell_type": "code",
   "execution_count": 11,
   "metadata": {
    "colab": {
     "base_uri": "https://localhost:8080/",
     "height": 320
    },
    "id": "9exlhi1BAbNk",
    "outputId": "a1292c4b-38b9-4c02-919d-b9cf33a4309e"
   },
   "outputs": [
    {
     "data": {
      "image/png": "[encoded data removed]",
      "text/plain": [
       "<Figure size 1000x500 with 1 Axes>"
      ]
     },
     "metadata": {},
     "output_type": "display_data"
    }
   ],
   "source": [
    "market_prior.plot.barh(figsize=(10,5));"
   ]
  },
  {
   "cell_type": "markdown",
   "metadata": {
    "id": "v1YzJTJFAbNl"
   },
   "source": [
    "## Views\n",
    "\n",
    "In the BL method, views are specified via the matrix P (picking matrix) and the vector Q. Q contains the magnitude of each view, while P maps the views to the assets they belong to. \n",
    "\n",
    "If you are providing **absolute views** (i.e a return estimate for each asset), you don't have to worry about P and Q, you can just pass your views as a dictionary."
   ]
  },
  {
   "cell_type": "code",
   "execution_count": 12,
   "metadata": {
    "id": "uTP2BVZIAbNl"
   },
   "outputs": [
    {
     "ename": "ValueError",
     "evalue": "Providing a view on an asset not in the universe",
     "output_type": "error",
     "traceback": [
      "\u001b[0;31m---------------------------------------------------------------------------\u001b[0m",
      "\u001b[0;31mValueError\u001b[0m                                Traceback (most recent call last)",
      "File \u001b[0;32m~/opt/anaconda3/envs/env_zipline/lib/python3.8/site-packages/pypfopt/black_litterman.py:230\u001b[0m, in \u001b[0;36mBlackLittermanModel._parse_views\u001b[0;34m(self, absolute_views)\u001b[0m\n\u001b[1;32m    229\u001b[0m     Q[i] \u001b[38;5;241m=\u001b[39m views[view_ticker]\n\u001b[0;32m--> 230\u001b[0m     P[i, \u001b[38;5;28;43mlist\u001b[39;49m\u001b[43m(\u001b[49m\u001b[38;5;28;43mself\u001b[39;49m\u001b[38;5;241;43m.\u001b[39;49m\u001b[43mtickers\u001b[49m\u001b[43m)\u001b[49m\u001b[38;5;241;43m.\u001b[39;49m\u001b[43mindex\u001b[49m\u001b[43m(\u001b[49m\u001b[43mview_ticker\u001b[49m\u001b[43m)\u001b[49m] \u001b[38;5;241m=\u001b[39m \u001b[38;5;241m1\u001b[39m\n\u001b[1;32m    231\u001b[0m \u001b[38;5;28;01mexcept\u001b[39;00m \u001b[38;5;167;01mValueError\u001b[39;00m:\n\u001b[1;32m    232\u001b[0m     \u001b[38;5;66;03m#  Could make this smarter by just skipping\u001b[39;00m\n",
      "\u001b[0;31mValueError\u001b[0m: 'BAC' is not in list",
      "\nDuring handling of the above exception, another exception occurred:\n",
      "\u001b[0;31mValueError\u001b[0m                                Traceback (most recent call last)",
      "Cell \u001b[0;32mIn[12], line 15\u001b[0m\n\u001b[1;32m      1\u001b[0m \u001b[38;5;66;03m# You don't have to provide views on all the assets\u001b[39;00m\n\u001b[1;32m      2\u001b[0m viewdict \u001b[38;5;241m=\u001b[39m {\n\u001b[1;32m      3\u001b[0m     \u001b[38;5;124m\"\u001b[39m\u001b[38;5;124mAMZN\u001b[39m\u001b[38;5;124m\"\u001b[39m: \u001b[38;5;241m0.10\u001b[39m,\n\u001b[1;32m      4\u001b[0m     \u001b[38;5;124m\"\u001b[39m\u001b[38;5;124mBAC\u001b[39m\u001b[38;5;124m\"\u001b[39m: \u001b[38;5;241m0.30\u001b[39m,\n\u001b[0;32m   (...)\u001b[0m\n\u001b[1;32m     12\u001b[0m     \u001b[38;5;124m\"\u001b[39m\u001b[38;5;124mSBUX\u001b[39m\u001b[38;5;124m\"\u001b[39m: \u001b[38;5;241m0.10\u001b[39m\n\u001b[1;32m     13\u001b[0m }\n\u001b[0;32m---> 15\u001b[0m bl \u001b[38;5;241m=\u001b[39m \u001b[43mBlackLittermanModel\u001b[49m\u001b[43m(\u001b[49m\u001b[43mS\u001b[49m\u001b[43m,\u001b[49m\u001b[43m \u001b[49m\u001b[43mpi\u001b[49m\u001b[38;5;241;43m=\u001b[39;49m\u001b[43mmarket_prior\u001b[49m\u001b[43m,\u001b[49m\u001b[43m \u001b[49m\u001b[43mabsolute_views\u001b[49m\u001b[38;5;241;43m=\u001b[39;49m\u001b[43mviewdict\u001b[49m\u001b[43m)\u001b[49m\n",
      "File \u001b[0;32m~/opt/anaconda3/envs/env_zipline/lib/python3.8/site-packages/pypfopt/black_litterman.py:189\u001b[0m, in \u001b[0;36mBlackLittermanModel.__init__\u001b[0;34m(self, cov_matrix, pi, absolute_views, Q, P, omega, view_confidences, tau, risk_aversion, **kwargs)\u001b[0m\n\u001b[1;32m    187\u001b[0m \u001b[38;5;66;03m#  Sanitise inputs\u001b[39;00m\n\u001b[1;32m    188\u001b[0m \u001b[38;5;28;01mif\u001b[39;00m absolute_views \u001b[38;5;129;01mis\u001b[39;00m \u001b[38;5;129;01mnot\u001b[39;00m \u001b[38;5;28;01mNone\u001b[39;00m:\n\u001b[0;32m--> 189\u001b[0m     \u001b[38;5;28mself\u001b[39m\u001b[38;5;241m.\u001b[39mQ, \u001b[38;5;28mself\u001b[39m\u001b[38;5;241m.\u001b[39mP \u001b[38;5;241m=\u001b[39m \u001b[38;5;28;43mself\u001b[39;49m\u001b[38;5;241;43m.\u001b[39;49m\u001b[43m_parse_views\u001b[49m\u001b[43m(\u001b[49m\u001b[43mabsolute_views\u001b[49m\u001b[43m)\u001b[49m\n\u001b[1;32m    190\u001b[0m \u001b[38;5;28;01melse\u001b[39;00m:\n\u001b[1;32m    191\u001b[0m     \u001b[38;5;28mself\u001b[39m\u001b[38;5;241m.\u001b[39m_set_Q_P(Q, P)\n",
      "File \u001b[0;32m~/opt/anaconda3/envs/env_zipline/lib/python3.8/site-packages/pypfopt/black_litterman.py:233\u001b[0m, in \u001b[0;36mBlackLittermanModel._parse_views\u001b[0;34m(self, absolute_views)\u001b[0m\n\u001b[1;32m    230\u001b[0m         P[i, \u001b[38;5;28mlist\u001b[39m(\u001b[38;5;28mself\u001b[39m\u001b[38;5;241m.\u001b[39mtickers)\u001b[38;5;241m.\u001b[39mindex(view_ticker)] \u001b[38;5;241m=\u001b[39m \u001b[38;5;241m1\u001b[39m\n\u001b[1;32m    231\u001b[0m     \u001b[38;5;28;01mexcept\u001b[39;00m \u001b[38;5;167;01mValueError\u001b[39;00m:\n\u001b[1;32m    232\u001b[0m         \u001b[38;5;66;03m#  Could make this smarter by just skipping\u001b[39;00m\n\u001b[0;32m--> 233\u001b[0m         \u001b[38;5;28;01mraise\u001b[39;00m \u001b[38;5;167;01mValueError\u001b[39;00m(\u001b[38;5;124m\"\u001b[39m\u001b[38;5;124mProviding a view on an asset not in the universe\u001b[39m\u001b[38;5;124m\"\u001b[39m)\n\u001b[1;32m    234\u001b[0m \u001b[38;5;28;01mreturn\u001b[39;00m Q, P\n",
      "\u001b[0;31mValueError\u001b[0m: Providing a view on an asset not in the universe"
     ]
    }
   ],
   "source": [
    "# You don't have to provide views on all the assets\n",
    "viewdict = {\n",
    "    \"AMZN\": 0.10,\n",
    "    \"BAC\": 0.30,\n",
    "    \"COST\": 0.05,\n",
    "    \"DIS\": 0.05,\n",
    "    \"DPZ\": 0.20,\n",
    "    \"KO\": -0.05,  # I think Coca-Cola will go down 5%\n",
    "    \"MCD\": 0.15,\n",
    "    \"MSFT\": 0.10,\n",
    "    \"NAT\": 0.50,  # but low confidence, which will be reflected later\n",
    "    \"SBUX\": 0.10\n",
    "}\n",
    "\n",
    "bl = BlackLittermanModel(S, pi=market_prior, absolute_views=viewdict)"
   ]
  },
  {
   "cell_type": "markdown",
   "metadata": {
    "id": "fA5PRsozAbNm"
   },
   "source": [
    "Black-Litterman also allows for relative views, e.g you think asset A will outperform asset B by 10%. If you'd like to incorporate these, you will have to build P and Q yourself. An explanation for this is given in the [docs](https://pyportfolioopt.readthedocs.io/en/latest/BlackLitterman.html#views)."
   ]
  },
  {
   "cell_type": "markdown",
   "metadata": {
    "id": "QIMKGZEoAbNm"
   },
   "source": [
    "## View confidences\n",
    "\n",
    "In this section, we provide two ways that you may wish to construct the uncertainty matrix. The first is known as Idzorek's method. It allows you to specify a vector/list of percentage confidences."
   ]
  },
  {
   "cell_type": "code",
   "execution_count": 13,
   "metadata": {
    "id": "Z0Pzoio1AbNm"
   },
   "outputs": [],
   "source": [
    "confidences = [\n",
    "    0.6,\n",
    "    0.4,\n",
    "    0.2,\n",
    "    0.5,\n",
    "    0.7, # confident in dominos\n",
    "    0.7, # confident KO will do poorly\n",
    "    0.7, \n",
    "    0.5,\n",
    "    0.1,\n",
    "    0.4\n",
    "]"
   ]
  },
  {
   "cell_type": "code",
   "execution_count": 14,
   "metadata": {
    "id": "EaRmLt4IAbNm"
   },
   "outputs": [
    {
     "ename": "ValueError",
     "evalue": "Providing a view on an asset not in the universe",
     "output_type": "error",
     "traceback": [
      "\u001b[0;31m---------------------------------------------------------------------------\u001b[0m",
      "\u001b[0;31mValueError\u001b[0m                                Traceback (most recent call last)",
      "File \u001b[0;32m~/opt/anaconda3/envs/env_zipline/lib/python3.8/site-packages/pypfopt/black_litterman.py:230\u001b[0m, in \u001b[0;36mBlackLittermanModel._parse_views\u001b[0;34m(self, absolute_views)\u001b[0m\n\u001b[1;32m    229\u001b[0m     Q[i] \u001b[38;5;241m=\u001b[39m views[view_ticker]\n\u001b[0;32m--> 230\u001b[0m     P[i, \u001b[38;5;28;43mlist\u001b[39;49m\u001b[43m(\u001b[49m\u001b[38;5;28;43mself\u001b[39;49m\u001b[38;5;241;43m.\u001b[39;49m\u001b[43mtickers\u001b[49m\u001b[43m)\u001b[49m\u001b[38;5;241;43m.\u001b[39;49m\u001b[43mindex\u001b[49m\u001b[43m(\u001b[49m\u001b[43mview_ticker\u001b[49m\u001b[43m)\u001b[49m] \u001b[38;5;241m=\u001b[39m \u001b[38;5;241m1\u001b[39m\n\u001b[1;32m    231\u001b[0m \u001b[38;5;28;01mexcept\u001b[39;00m \u001b[38;5;167;01mValueError\u001b[39;00m:\n\u001b[1;32m    232\u001b[0m     \u001b[38;5;66;03m#  Could make this smarter by just skipping\u001b[39;00m\n",
      "\u001b[0;31mValueError\u001b[0m: 'BAC' is not in list",
      "\nDuring handling of the above exception, another exception occurred:\n",
      "\u001b[0;31mValueError\u001b[0m                                Traceback (most recent call last)",
      "Cell \u001b[0;32mIn[14], line 1\u001b[0m\n\u001b[0;32m----> 1\u001b[0m bl \u001b[38;5;241m=\u001b[39m \u001b[43mBlackLittermanModel\u001b[49m\u001b[43m(\u001b[49m\u001b[43mS\u001b[49m\u001b[43m,\u001b[49m\u001b[43m \u001b[49m\u001b[43mpi\u001b[49m\u001b[38;5;241;43m=\u001b[39;49m\u001b[43mmarket_prior\u001b[49m\u001b[43m,\u001b[49m\u001b[43m \u001b[49m\u001b[43mabsolute_views\u001b[49m\u001b[38;5;241;43m=\u001b[39;49m\u001b[43mviewdict\u001b[49m\u001b[43m,\u001b[49m\u001b[43m \u001b[49m\u001b[43momega\u001b[49m\u001b[38;5;241;43m=\u001b[39;49m\u001b[38;5;124;43m\"\u001b[39;49m\u001b[38;5;124;43midzorek\u001b[39;49m\u001b[38;5;124;43m\"\u001b[39;49m\u001b[43m,\u001b[49m\u001b[43m \u001b[49m\u001b[43mview_confidences\u001b[49m\u001b[38;5;241;43m=\u001b[39;49m\u001b[43mconfidences\u001b[49m\u001b[43m)\u001b[49m\n",
      "File \u001b[0;32m~/opt/anaconda3/envs/env_zipline/lib/python3.8/site-packages/pypfopt/black_litterman.py:189\u001b[0m, in \u001b[0;36mBlackLittermanModel.__init__\u001b[0;34m(self, cov_matrix, pi, absolute_views, Q, P, omega, view_confidences, tau, risk_aversion, **kwargs)\u001b[0m\n\u001b[1;32m    187\u001b[0m \u001b[38;5;66;03m#  Sanitise inputs\u001b[39;00m\n\u001b[1;32m    188\u001b[0m \u001b[38;5;28;01mif\u001b[39;00m absolute_views \u001b[38;5;129;01mis\u001b[39;00m \u001b[38;5;129;01mnot\u001b[39;00m \u001b[38;5;28;01mNone\u001b[39;00m:\n\u001b[0;32m--> 189\u001b[0m     \u001b[38;5;28mself\u001b[39m\u001b[38;5;241m.\u001b[39mQ, \u001b[38;5;28mself\u001b[39m\u001b[38;5;241m.\u001b[39mP \u001b[38;5;241m=\u001b[39m \u001b[38;5;28;43mself\u001b[39;49m\u001b[38;5;241;43m.\u001b[39;49m\u001b[43m_parse_views\u001b[49m\u001b[43m(\u001b[49m\u001b[43mabsolute_views\u001b[49m\u001b[43m)\u001b[49m\n\u001b[1;32m    190\u001b[0m \u001b[38;5;28;01melse\u001b[39;00m:\n\u001b[1;32m    191\u001b[0m     \u001b[38;5;28mself\u001b[39m\u001b[38;5;241m.\u001b[39m_set_Q_P(Q, P)\n",
      "File \u001b[0;32m~/opt/anaconda3/envs/env_zipline/lib/python3.8/site-packages/pypfopt/black_litterman.py:233\u001b[0m, in \u001b[0;36mBlackLittermanModel._parse_views\u001b[0;34m(self, absolute_views)\u001b[0m\n\u001b[1;32m    230\u001b[0m         P[i, \u001b[38;5;28mlist\u001b[39m(\u001b[38;5;28mself\u001b[39m\u001b[38;5;241m.\u001b[39mtickers)\u001b[38;5;241m.\u001b[39mindex(view_ticker)] \u001b[38;5;241m=\u001b[39m \u001b[38;5;241m1\u001b[39m\n\u001b[1;32m    231\u001b[0m     \u001b[38;5;28;01mexcept\u001b[39;00m \u001b[38;5;167;01mValueError\u001b[39;00m:\n\u001b[1;32m    232\u001b[0m         \u001b[38;5;66;03m#  Could make this smarter by just skipping\u001b[39;00m\n\u001b[0;32m--> 233\u001b[0m         \u001b[38;5;28;01mraise\u001b[39;00m \u001b[38;5;167;01mValueError\u001b[39;00m(\u001b[38;5;124m\"\u001b[39m\u001b[38;5;124mProviding a view on an asset not in the universe\u001b[39m\u001b[38;5;124m\"\u001b[39m)\n\u001b[1;32m    234\u001b[0m \u001b[38;5;28;01mreturn\u001b[39;00m Q, P\n",
      "\u001b[0;31mValueError\u001b[0m: Providing a view on an asset not in the universe"
     ]
    }
   ],
   "source": [
    "bl = BlackLittermanModel(S, pi=market_prior, absolute_views=viewdict, omega=\"idzorek\", view_confidences=confidences)"
   ]
  },
  {
   "cell_type": "code",
   "execution_count": 15,
   "metadata": {
    "colab": {
     "base_uri": "https://localhost:8080/",
     "height": 428
    },
    "id": "fo6SKTGAAbNn",
    "outputId": "49517772-73fa-405b-a164-8a39c1456faf"
   },
   "outputs": [
    {
     "ename": "NameError",
     "evalue": "name 'bl' is not defined",
     "output_type": "error",
     "traceback": [
      "\u001b[0;31m---------------------------------------------------------------------------\u001b[0m",
      "\u001b[0;31mNameError\u001b[0m                                 Traceback (most recent call last)",
      "Cell \u001b[0;32mIn[15], line 2\u001b[0m\n\u001b[1;32m      1\u001b[0m fig, ax \u001b[38;5;241m=\u001b[39m plt\u001b[38;5;241m.\u001b[39msubplots(figsize\u001b[38;5;241m=\u001b[39m(\u001b[38;5;241m7\u001b[39m,\u001b[38;5;241m7\u001b[39m))\n\u001b[0;32m----> 2\u001b[0m im \u001b[38;5;241m=\u001b[39m ax\u001b[38;5;241m.\u001b[39mimshow(\u001b[43mbl\u001b[49m\u001b[38;5;241m.\u001b[39momega)\n\u001b[1;32m      4\u001b[0m \u001b[38;5;66;03m# We want to show all ticks...\u001b[39;00m\n\u001b[1;32m      5\u001b[0m ax\u001b[38;5;241m.\u001b[39mset_xticks(np\u001b[38;5;241m.\u001b[39marange(\u001b[38;5;28mlen\u001b[39m(bl\u001b[38;5;241m.\u001b[39mtickers)))\n",
      "\u001b[0;31mNameError\u001b[0m: name 'bl' is not defined"
     ]
    },
    {
     "data": {
      "image/png": "[encoded data removed]",
      "text/plain": [
       "<Figure size 700x700 with 1 Axes>"
      ]
     },
     "metadata": {},
     "output_type": "display_data"
    }
   ],
   "source": [
    "fig, ax = plt.subplots(figsize=(7,7))\n",
    "im = ax.imshow(bl.omega)\n",
    "\n",
    "# We want to show all ticks...\n",
    "ax.set_xticks(np.arange(len(bl.tickers)))\n",
    "ax.set_yticks(np.arange(len(bl.tickers)))\n",
    "\n",
    "ax.set_xticklabels(bl.tickers)\n",
    "ax.set_yticklabels(bl.tickers)\n",
    "plt.show()"
   ]
  },
  {
   "cell_type": "code",
   "execution_count": 16,
   "metadata": {
    "colab": {
     "base_uri": "https://localhost:8080/"
    },
    "id": "58aBtbhuAbNn",
    "outputId": "31bcfa00-46ba-4600-b626-c7cf15a352b8"
   },
   "outputs": [
    {
     "ename": "NameError",
     "evalue": "name 'bl' is not defined",
     "output_type": "error",
     "traceback": [
      "\u001b[0;31m---------------------------------------------------------------------------\u001b[0m",
      "\u001b[0;31mNameError\u001b[0m                                 Traceback (most recent call last)",
      "Cell \u001b[0;32mIn[16], line 1\u001b[0m\n\u001b[0;32m----> 1\u001b[0m np\u001b[38;5;241m.\u001b[39mdiag(\u001b[43mbl\u001b[49m\u001b[38;5;241m.\u001b[39momega)\n",
      "\u001b[0;31mNameError\u001b[0m: name 'bl' is not defined"
     ]
    }
   ],
   "source": [
    "np.diag(bl.omega)"
   ]
  },
  {
   "cell_type": "markdown",
   "metadata": {
    "id": "lUGduOmsAbNn"
   },
   "source": [
    "Note how NAT, which we gave the lowest confidence, also has the highest uncertainty.\n",
    "\n",
    "Instead of inputting confidences, we can calculate the uncertainty matrix directly by specifying 1 standard deviation confidence intervals, i.e bounds which we think will contain the true return 68% of the time. This may be easier than coming up with somewhat arbitrary percentage confidences"
   ]
  },
  {
   "cell_type": "code",
   "execution_count": 17,
   "metadata": {
    "id": "QQtnWs9xAbNn"
   },
   "outputs": [],
   "source": [
    "intervals = [\n",
    "    (0, 0.25),\n",
    "    (0.1, 0.4),\n",
    "    (-0.1, 0.15),\n",
    "    (-0.05, 0.1),\n",
    "    (0.15, 0.25),\n",
    "    (-0.1, 0),\n",
    "    (0.1, 0.2),\n",
    "    (0.08, 0.12),\n",
    "    (0.1, 0.9),\n",
    "    (0, 0.3)\n",
    "]"
   ]
  },
  {
   "cell_type": "code",
   "execution_count": 18,
   "metadata": {
    "colab": {
     "base_uri": "https://localhost:8080/"
    },
    "id": "avW4ld8bAbNo",
    "outputId": "540d7109-e20f-4eb4-e32d-fb16ae670a5b"
   },
   "outputs": [
    {
     "name": "stdout",
     "output_type": "stream",
     "text": [
      "[0.015625, 0.022500000000000006, 0.015625, 0.0056250000000000015, 0.0025000000000000005, 0.0025000000000000005, 0.0025000000000000005, 0.00039999999999999986, 0.16000000000000003, 0.0225]\n"
     ]
    }
   ],
   "source": [
    "variances = []\n",
    "for lb, ub in intervals:\n",
    "    sigma = (ub - lb)/2\n",
    "    variances.append(sigma ** 2)\n",
    "\n",
    "print(variances)\n",
    "omega = np.diag(variances)"
   ]
  },
  {
   "cell_type": "markdown",
   "metadata": {
    "id": "VlVq9sICAbNo"
   },
   "source": [
    "## Posterior estimates\n",
    "\n",
    "Given the inputs, we can compute a posterior estimate of returns\n"
   ]
  },
  {
   "cell_type": "code",
   "execution_count": 19,
   "metadata": {
    "id": "478dHIDHAbNo"
   },
   "outputs": [
    {
     "ename": "ValueError",
     "evalue": "Providing a view on an asset not in the universe",
     "output_type": "error",
     "traceback": [
      "\u001b[0;31m---------------------------------------------------------------------------\u001b[0m",
      "\u001b[0;31mValueError\u001b[0m                                Traceback (most recent call last)",
      "File \u001b[0;32m~/opt/anaconda3/envs/env_zipline/lib/python3.8/site-packages/pypfopt/black_litterman.py:230\u001b[0m, in \u001b[0;36mBlackLittermanModel._parse_views\u001b[0;34m(self, absolute_views)\u001b[0m\n\u001b[1;32m    229\u001b[0m     Q[i] \u001b[38;5;241m=\u001b[39m views[view_ticker]\n\u001b[0;32m--> 230\u001b[0m     P[i, \u001b[38;5;28;43mlist\u001b[39;49m\u001b[43m(\u001b[49m\u001b[38;5;28;43mself\u001b[39;49m\u001b[38;5;241;43m.\u001b[39;49m\u001b[43mtickers\u001b[49m\u001b[43m)\u001b[49m\u001b[38;5;241;43m.\u001b[39;49m\u001b[43mindex\u001b[49m\u001b[43m(\u001b[49m\u001b[43mview_ticker\u001b[49m\u001b[43m)\u001b[49m] \u001b[38;5;241m=\u001b[39m \u001b[38;5;241m1\u001b[39m\n\u001b[1;32m    231\u001b[0m \u001b[38;5;28;01mexcept\u001b[39;00m \u001b[38;5;167;01mValueError\u001b[39;00m:\n\u001b[1;32m    232\u001b[0m     \u001b[38;5;66;03m#  Could make this smarter by just skipping\u001b[39;00m\n",
      "\u001b[0;31mValueError\u001b[0m: 'BAC' is not in list",
      "\nDuring handling of the above exception, another exception occurred:\n",
      "\u001b[0;31mValueError\u001b[0m                                Traceback (most recent call last)",
      "Cell \u001b[0;32mIn[19], line 2\u001b[0m\n\u001b[1;32m      1\u001b[0m \u001b[38;5;66;03m# We are using the shortcut to automatically compute market-implied prior\u001b[39;00m\n\u001b[0;32m----> 2\u001b[0m bl \u001b[38;5;241m=\u001b[39m \u001b[43mBlackLittermanModel\u001b[49m\u001b[43m(\u001b[49m\u001b[43mS\u001b[49m\u001b[43m,\u001b[49m\u001b[43m \u001b[49m\u001b[43mpi\u001b[49m\u001b[38;5;241;43m=\u001b[39;49m\u001b[38;5;124;43m\"\u001b[39;49m\u001b[38;5;124;43mmarket\u001b[39;49m\u001b[38;5;124;43m\"\u001b[39;49m\u001b[43m,\u001b[49m\u001b[43m \u001b[49m\u001b[43mmarket_caps\u001b[49m\u001b[38;5;241;43m=\u001b[39;49m\u001b[43mmcaps\u001b[49m\u001b[43m,\u001b[49m\u001b[43m \u001b[49m\u001b[43mrisk_aversion\u001b[49m\u001b[38;5;241;43m=\u001b[39;49m\u001b[43mdelta\u001b[49m\u001b[43m,\u001b[49m\n\u001b[1;32m      3\u001b[0m \u001b[43m                        \u001b[49m\u001b[43mabsolute_views\u001b[49m\u001b[38;5;241;43m=\u001b[39;49m\u001b[43mviewdict\u001b[49m\u001b[43m,\u001b[49m\u001b[43m \u001b[49m\u001b[43momega\u001b[49m\u001b[38;5;241;43m=\u001b[39;49m\u001b[43momega\u001b[49m\u001b[43m)\u001b[49m\n",
      "File \u001b[0;32m~/opt/anaconda3/envs/env_zipline/lib/python3.8/site-packages/pypfopt/black_litterman.py:189\u001b[0m, in \u001b[0;36mBlackLittermanModel.__init__\u001b[0;34m(self, cov_matrix, pi, absolute_views, Q, P, omega, view_confidences, tau, risk_aversion, **kwargs)\u001b[0m\n\u001b[1;32m    187\u001b[0m \u001b[38;5;66;03m#  Sanitise inputs\u001b[39;00m\n\u001b[1;32m    188\u001b[0m \u001b[38;5;28;01mif\u001b[39;00m absolute_views \u001b[38;5;129;01mis\u001b[39;00m \u001b[38;5;129;01mnot\u001b[39;00m \u001b[38;5;28;01mNone\u001b[39;00m:\n\u001b[0;32m--> 189\u001b[0m     \u001b[38;5;28mself\u001b[39m\u001b[38;5;241m.\u001b[39mQ, \u001b[38;5;28mself\u001b[39m\u001b[38;5;241m.\u001b[39mP \u001b[38;5;241m=\u001b[39m \u001b[38;5;28;43mself\u001b[39;49m\u001b[38;5;241;43m.\u001b[39;49m\u001b[43m_parse_views\u001b[49m\u001b[43m(\u001b[49m\u001b[43mabsolute_views\u001b[49m\u001b[43m)\u001b[49m\n\u001b[1;32m    190\u001b[0m \u001b[38;5;28;01melse\u001b[39;00m:\n\u001b[1;32m    191\u001b[0m     \u001b[38;5;28mself\u001b[39m\u001b[38;5;241m.\u001b[39m_set_Q_P(Q, P)\n",
      "File \u001b[0;32m~/opt/anaconda3/envs/env_zipline/lib/python3.8/site-packages/pypfopt/black_litterman.py:233\u001b[0m, in \u001b[0;36mBlackLittermanModel._parse_views\u001b[0;34m(self, absolute_views)\u001b[0m\n\u001b[1;32m    230\u001b[0m         P[i, \u001b[38;5;28mlist\u001b[39m(\u001b[38;5;28mself\u001b[39m\u001b[38;5;241m.\u001b[39mtickers)\u001b[38;5;241m.\u001b[39mindex(view_ticker)] \u001b[38;5;241m=\u001b[39m \u001b[38;5;241m1\u001b[39m\n\u001b[1;32m    231\u001b[0m     \u001b[38;5;28;01mexcept\u001b[39;00m \u001b[38;5;167;01mValueError\u001b[39;00m:\n\u001b[1;32m    232\u001b[0m         \u001b[38;5;66;03m#  Could make this smarter by just skipping\u001b[39;00m\n\u001b[0;32m--> 233\u001b[0m         \u001b[38;5;28;01mraise\u001b[39;00m \u001b[38;5;167;01mValueError\u001b[39;00m(\u001b[38;5;124m\"\u001b[39m\u001b[38;5;124mProviding a view on an asset not in the universe\u001b[39m\u001b[38;5;124m\"\u001b[39m)\n\u001b[1;32m    234\u001b[0m \u001b[38;5;28;01mreturn\u001b[39;00m Q, P\n",
      "\u001b[0;31mValueError\u001b[0m: Providing a view on an asset not in the universe"
     ]
    }
   ],
   "source": [
    "# We are using the shortcut to automatically compute market-implied prior\n",
    "bl = BlackLittermanModel(S, pi=\"market\", market_caps=mcaps, risk_aversion=delta,\n",
    "                        absolute_views=viewdict, omega=omega)"
   ]
  },
  {
   "cell_type": "code",
   "execution_count": 20,
   "metadata": {
    "colab": {
     "base_uri": "https://localhost:8080/"
    },
    "id": "A9VSO7xAAbNo",
    "outputId": "c501cc36-8719-4826-d2b9-c138ab2f46c5"
   },
   "outputs": [
    {
     "ename": "NameError",
     "evalue": "name 'bl' is not defined",
     "output_type": "error",
     "traceback": [
      "\u001b[0;31m---------------------------------------------------------------------------\u001b[0m",
      "\u001b[0;31mNameError\u001b[0m                                 Traceback (most recent call last)",
      "Cell \u001b[0;32mIn[20], line 2\u001b[0m\n\u001b[1;32m      1\u001b[0m \u001b[38;5;66;03m# Posterior estimate of returns\u001b[39;00m\n\u001b[0;32m----> 2\u001b[0m ret_bl \u001b[38;5;241m=\u001b[39m \u001b[43mbl\u001b[49m\u001b[38;5;241m.\u001b[39mbl_returns()\n\u001b[1;32m      3\u001b[0m ret_bl\n",
      "\u001b[0;31mNameError\u001b[0m: name 'bl' is not defined"
     ]
    }
   ],
   "source": [
    "# Posterior estimate of returns\n",
    "ret_bl = bl.bl_returns()\n",
    "ret_bl"
   ]
  },
  {
   "cell_type": "markdown",
   "metadata": {
    "id": "eRKmlKABAbNo"
   },
   "source": [
    "We can visualise how this compares to the prior and our views:"
   ]
  },
  {
   "cell_type": "code",
   "execution_count": 21,
   "metadata": {
    "colab": {
     "base_uri": "https://localhost:8080/",
     "height": 363
    },
    "id": "KHfvi6KvAbNp",
    "outputId": "ee876b7b-a24c-4dea-c344-a1c8a5c6c7d4"
   },
   "outputs": [
    {
     "ename": "NameError",
     "evalue": "name 'ret_bl' is not defined",
     "output_type": "error",
     "traceback": [
      "\u001b[0;31m---------------------------------------------------------------------------\u001b[0m",
      "\u001b[0;31mNameError\u001b[0m                                 Traceback (most recent call last)",
      "Cell \u001b[0;32mIn[21], line 1\u001b[0m\n\u001b[0;32m----> 1\u001b[0m rets_df \u001b[38;5;241m=\u001b[39m pd\u001b[38;5;241m.\u001b[39mDataFrame([market_prior, \u001b[43mret_bl\u001b[49m, pd\u001b[38;5;241m.\u001b[39mSeries(viewdict)], \n\u001b[1;32m      2\u001b[0m              index\u001b[38;5;241m=\u001b[39m[\u001b[38;5;124m\"\u001b[39m\u001b[38;5;124mPrior\u001b[39m\u001b[38;5;124m\"\u001b[39m, \u001b[38;5;124m\"\u001b[39m\u001b[38;5;124mPosterior\u001b[39m\u001b[38;5;124m\"\u001b[39m, \u001b[38;5;124m\"\u001b[39m\u001b[38;5;124mViews\u001b[39m\u001b[38;5;124m\"\u001b[39m])\u001b[38;5;241m.\u001b[39mT\n\u001b[1;32m      3\u001b[0m rets_df\n",
      "\u001b[0;31mNameError\u001b[0m: name 'ret_bl' is not defined"
     ]
    }
   ],
   "source": [
    "rets_df = pd.DataFrame([market_prior, ret_bl, pd.Series(viewdict)], \n",
    "             index=[\"Prior\", \"Posterior\", \"Views\"]).T\n",
    "rets_df"
   ]
  },
  {
   "cell_type": "code",
   "execution_count": 22,
   "metadata": {
    "colab": {
     "base_uri": "https://localhost:8080/",
     "height": 503
    },
    "id": "n55wKWFuAbNp",
    "outputId": "9445d68a-279e-4cfe-85a6-0609e411b03c"
   },
   "outputs": [
    {
     "ename": "NameError",
     "evalue": "name 'rets_df' is not defined",
     "output_type": "error",
     "traceback": [
      "\u001b[0;31m---------------------------------------------------------------------------\u001b[0m",
      "\u001b[0;31mNameError\u001b[0m                                 Traceback (most recent call last)",
      "Cell \u001b[0;32mIn[22], line 1\u001b[0m\n\u001b[0;32m----> 1\u001b[0m \u001b[43mrets_df\u001b[49m\u001b[38;5;241m.\u001b[39mplot\u001b[38;5;241m.\u001b[39mbar(figsize\u001b[38;5;241m=\u001b[39m(\u001b[38;5;241m12\u001b[39m,\u001b[38;5;241m8\u001b[39m))\n",
      "\u001b[0;31mNameError\u001b[0m: name 'rets_df' is not defined"
     ]
    }
   ],
   "source": [
    "rets_df.plot.bar(figsize=(12,8));"
   ]
  },
  {
   "cell_type": "markdown",
   "metadata": {
    "id": "fuizxt0NAbNp"
   },
   "source": [
    "Notice that the posterior is often between the prior and the views. This supports the fact that the BL method is essentially a Bayesian weighted-average of the prior and views, where the weight is determined by the confidence.\n",
    "\n",
    "A similar but less intuitive procedure can be used to produce the posterior covariance estimate:"
   ]
  },
  {
   "cell_type": "code",
   "execution_count": 23,
   "metadata": {
    "colab": {
     "base_uri": "https://localhost:8080/",
     "height": 297
    },
    "id": "i6S1l2-aAbNp",
    "outputId": "411f2876-67fb-4d2d-8f88-4b63463bf10f"
   },
   "outputs": [
    {
     "ename": "NameError",
     "evalue": "name 'bl' is not defined",
     "output_type": "error",
     "traceback": [
      "\u001b[0;31m---------------------------------------------------------------------------\u001b[0m",
      "\u001b[0;31mNameError\u001b[0m                                 Traceback (most recent call last)",
      "Cell \u001b[0;32mIn[23], line 1\u001b[0m\n\u001b[0;32m----> 1\u001b[0m S_bl \u001b[38;5;241m=\u001b[39m \u001b[43mbl\u001b[49m\u001b[38;5;241m.\u001b[39mbl_cov()\n\u001b[1;32m      2\u001b[0m plotting\u001b[38;5;241m.\u001b[39mplot_covariance(S_bl)\n",
      "\u001b[0;31mNameError\u001b[0m: name 'bl' is not defined"
     ]
    }
   ],
   "source": [
    "S_bl = bl.bl_cov()\n",
    "plotting.plot_covariance(S_bl);"
   ]
  },
  {
   "cell_type": "markdown",
   "metadata": {
    "id": "YC9fNRAbAbNp"
   },
   "source": [
    "## Portfolio allocation\n",
    "\n",
    "Now that we have constructed our Black-Litterman posterior estimate, we can proceed to use any of the optimizers discussed in previous recipes."
   ]
  },
  {
   "cell_type": "code",
   "execution_count": 24,
   "metadata": {
    "id": "hDS0vIUCAbNp"
   },
   "outputs": [],
   "source": [
    "from pypfopt import EfficientFrontier, objective_functions"
   ]
  },
  {
   "cell_type": "code",
   "execution_count": 25,
   "metadata": {
    "colab": {
     "base_uri": "https://localhost:8080/"
    },
    "id": "qylII3-oAbNp",
    "outputId": "f81f870a-3181-42ba-afcf-321674ddf5d7"
   },
   "outputs": [
    {
     "ename": "NameError",
     "evalue": "name 'ret_bl' is not defined",
     "output_type": "error",
     "traceback": [
      "\u001b[0;31m---------------------------------------------------------------------------\u001b[0m",
      "\u001b[0;31mNameError\u001b[0m                                 Traceback (most recent call last)",
      "Cell \u001b[0;32mIn[25], line 1\u001b[0m\n\u001b[0;32m----> 1\u001b[0m ef \u001b[38;5;241m=\u001b[39m EfficientFrontier(\u001b[43mret_bl\u001b[49m, S_bl)\n\u001b[1;32m      2\u001b[0m ef\u001b[38;5;241m.\u001b[39madd_objective(objective_functions\u001b[38;5;241m.\u001b[39mL2_reg)\n\u001b[1;32m      3\u001b[0m ef\u001b[38;5;241m.\u001b[39mmax_sharpe()\n",
      "\u001b[0;31mNameError\u001b[0m: name 'ret_bl' is not defined"
     ]
    }
   ],
   "source": [
    "ef = EfficientFrontier(ret_bl, S_bl)\n",
    "ef.add_objective(objective_functions.L2_reg)\n",
    "ef.max_sharpe()\n",
    "weights = ef.clean_weights()\n",
    "weights"
   ]
  },
  {
   "cell_type": "code",
   "execution_count": 26,
   "metadata": {
    "colab": {
     "base_uri": "https://localhost:8080/",
     "height": 575
    },
    "id": "9_pWobQoAbNq",
    "outputId": "e50c07ee-7274-4936-8f0f-e347309013b9"
   },
   "outputs": [
    {
     "ename": "NameError",
     "evalue": "name 'weights' is not defined",
     "output_type": "error",
     "traceback": [
      "\u001b[0;31m---------------------------------------------------------------------------\u001b[0m",
      "\u001b[0;31mNameError\u001b[0m                                 Traceback (most recent call last)",
      "Cell \u001b[0;32mIn[26], line 1\u001b[0m\n\u001b[0;32m----> 1\u001b[0m pd\u001b[38;5;241m.\u001b[39mSeries(\u001b[43mweights\u001b[49m)\u001b[38;5;241m.\u001b[39mplot\u001b[38;5;241m.\u001b[39mpie(figsize\u001b[38;5;241m=\u001b[39m(\u001b[38;5;241m10\u001b[39m,\u001b[38;5;241m10\u001b[39m))\n",
      "\u001b[0;31mNameError\u001b[0m: name 'weights' is not defined"
     ]
    }
   ],
   "source": [
    "pd.Series(weights).plot.pie(figsize=(10,10));"
   ]
  },
  {
   "cell_type": "code",
   "execution_count": 27,
   "metadata": {
    "colab": {
     "base_uri": "https://localhost:8080/"
    },
    "id": "8YHugSK8AbNq",
    "outputId": "095c7b24-0f63-4c6a-a80b-91247548486b"
   },
   "outputs": [
    {
     "ename": "NameError",
     "evalue": "name 'weights' is not defined",
     "output_type": "error",
     "traceback": [
      "\u001b[0;31m---------------------------------------------------------------------------\u001b[0m",
      "\u001b[0;31mNameError\u001b[0m                                 Traceback (most recent call last)",
      "Cell \u001b[0;32mIn[27], line 3\u001b[0m\n\u001b[1;32m      1\u001b[0m \u001b[38;5;28;01mfrom\u001b[39;00m \u001b[38;5;21;01mpypfopt\u001b[39;00m \u001b[38;5;28;01mimport\u001b[39;00m DiscreteAllocation\n\u001b[0;32m----> 3\u001b[0m da \u001b[38;5;241m=\u001b[39m DiscreteAllocation(\u001b[43mweights\u001b[49m, prices\u001b[38;5;241m.\u001b[39miloc[\u001b[38;5;241m-\u001b[39m\u001b[38;5;241m1\u001b[39m], total_portfolio_value\u001b[38;5;241m=\u001b[39m\u001b[38;5;241m20000\u001b[39m)\n\u001b[1;32m      4\u001b[0m alloc, leftover \u001b[38;5;241m=\u001b[39m da\u001b[38;5;241m.\u001b[39mlp_portfolio()\n\u001b[1;32m      5\u001b[0m \u001b[38;5;28mprint\u001b[39m(\u001b[38;5;124mf\u001b[39m\u001b[38;5;124m\"\u001b[39m\u001b[38;5;124mLeftover: $\u001b[39m\u001b[38;5;132;01m{\u001b[39;00mleftover\u001b[38;5;132;01m:\u001b[39;00m\u001b[38;5;124m.2f\u001b[39m\u001b[38;5;132;01m}\u001b[39;00m\u001b[38;5;124m\"\u001b[39m)\n",
      "\u001b[0;31mNameError\u001b[0m: name 'weights' is not defined"
     ]
    }
   ],
   "source": [
    "from pypfopt import DiscreteAllocation\n",
    "\n",
    "da = DiscreteAllocation(weights, prices.iloc[-1], total_portfolio_value=20000)\n",
    "alloc, leftover = da.lp_portfolio()\n",
    "print(f\"Leftover: ${leftover:.2f}\")\n",
    "alloc"
   ]
  },
  {
   "cell_type": "code",
   "execution_count": null,
   "metadata": {
    "id": "xg87r54tAbNq"
   },
   "outputs": [],
   "source": []
  },
  {
   "cell_type": "code",
   "execution_count": null,
   "metadata": {},
   "outputs": [],
   "source": []
  }
 ],
 "metadata": {
  "colab": {
   "collapsed_sections": [],
   "name": "4-Black-Litterman-Allocation.ipynb",
   "provenance": []
  },
  "kernelspec": {
   "display_name": "Python 3 (ipykernel)",
   "language": "python",
   "name": "python3"
  },
  "language_info": {
   "codemirror_mode": {
    "name": "ipython",
    "version": 3
   },
   "file_extension": ".py",
   "mimetype": "text/x-python",
   "name": "python",
   "nbconvert_exporter": "python",
   "pygments_lexer": "ipython3",
   "version": "3.8.16"
  }
 },
 "nbformat": 4,
 "nbformat_minor": 1
}
