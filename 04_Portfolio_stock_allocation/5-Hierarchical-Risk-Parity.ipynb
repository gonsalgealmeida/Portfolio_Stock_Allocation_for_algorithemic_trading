{
 "cells": [
  {
   "cell_type": "markdown",
   "id": "saving-safety",
   "metadata": {
    "id": "saving-safety"
   },
   "source": [
    "## Downloading data\n",
    "\n",
    "HRP only requires historical returns"
   ]
  },
  {
   "cell_type": "code",
   "execution_count": 1,
   "id": "kvgN-hAEBYHZ",
   "metadata": {
    "colab": {
     "base_uri": "https://localhost:8080/"
    },
    "id": "kvgN-hAEBYHZ",
    "outputId": "2cd60bf1-d484-405c-8d92-a8101f6e6750"
   },
   "outputs": [
    {
     "name": "stdout",
     "output_type": "stream",
     "text": [
      "Requirement already satisfied: pandas in /Users/surekaalmeida/opt/anaconda3/envs/env_zipline/lib/python3.8/site-packages (2.0.1)\n",
      "Requirement already satisfied: numpy in /Users/surekaalmeida/opt/anaconda3/envs/env_zipline/lib/python3.8/site-packages (1.23.5)\n",
      "Requirement already satisfied: matplotlib in /Users/surekaalmeida/opt/anaconda3/envs/env_zipline/lib/python3.8/site-packages (3.7.1)\n",
      "Requirement already satisfied: yfinance in /Users/surekaalmeida/opt/anaconda3/envs/env_zipline/lib/python3.8/site-packages (0.2.18)\n",
      "Requirement already satisfied: PyPortfolioOpt in /Users/surekaalmeida/opt/anaconda3/envs/env_zipline/lib/python3.8/site-packages (1.5.4)\n",
      "Requirement already satisfied: python-dateutil>=2.8.2 in /Users/surekaalmeida/opt/anaconda3/envs/env_zipline/lib/python3.8/site-packages (from pandas) (2.8.2)\n",
      "Requirement already satisfied: tzdata>=2022.1 in /Users/surekaalmeida/opt/anaconda3/envs/env_zipline/lib/python3.8/site-packages (from pandas) (2023.3)\n",
      "Requirement already satisfied: pytz>=2020.1 in /Users/surekaalmeida/opt/anaconda3/envs/env_zipline/lib/python3.8/site-packages (from pandas) (2022.7.1)\n",
      "Requirement already satisfied: packaging>=20.0 in /Users/surekaalmeida/opt/anaconda3/envs/env_zipline/lib/python3.8/site-packages (from matplotlib) (23.0)\n",
      "Requirement already satisfied: contourpy>=1.0.1 in /Users/surekaalmeida/opt/anaconda3/envs/env_zipline/lib/python3.8/site-packages (from matplotlib) (1.0.7)\n",
      "Requirement already satisfied: cycler>=0.10 in /Users/surekaalmeida/opt/anaconda3/envs/env_zipline/lib/python3.8/site-packages (from matplotlib) (0.11.0)\n",
      "Requirement already satisfied: kiwisolver>=1.0.1 in /Users/surekaalmeida/opt/anaconda3/envs/env_zipline/lib/python3.8/site-packages (from matplotlib) (1.4.4)\n",
      "Requirement already satisfied: pyparsing>=2.3.1 in /Users/surekaalmeida/opt/anaconda3/envs/env_zipline/lib/python3.8/site-packages (from matplotlib) (3.0.9)\n",
      "Requirement already satisfied: pillow>=6.2.0 in /Users/surekaalmeida/opt/anaconda3/envs/env_zipline/lib/python3.8/site-packages (from matplotlib) (9.4.0)\n",
      "Requirement already satisfied: importlib-resources>=3.2.0 in /Users/surekaalmeida/opt/anaconda3/envs/env_zipline/lib/python3.8/site-packages (from matplotlib) (5.2.0)\n",
      "Requirement already satisfied: fonttools>=4.22.0 in /Users/surekaalmeida/opt/anaconda3/envs/env_zipline/lib/python3.8/site-packages (from matplotlib) (4.39.2)\n",
      "Requirement already satisfied: beautifulsoup4>=4.11.1 in /Users/surekaalmeida/opt/anaconda3/envs/env_zipline/lib/python3.8/site-packages (from yfinance) (4.11.1)\n",
      "Requirement already satisfied: requests>=2.26 in /Users/surekaalmeida/opt/anaconda3/envs/env_zipline/lib/python3.8/site-packages (from yfinance) (2.28.1)\n",
      "Requirement already satisfied: frozendict>=2.3.4 in /Users/surekaalmeida/opt/anaconda3/envs/env_zipline/lib/python3.8/site-packages (from yfinance) (2.3.8)\n",
      "Requirement already satisfied: cryptography>=3.3.2 in /Users/surekaalmeida/opt/anaconda3/envs/env_zipline/lib/python3.8/site-packages (from yfinance) (39.0.1)\n",
      "Requirement already satisfied: multitasking>=0.0.7 in /Users/surekaalmeida/opt/anaconda3/envs/env_zipline/lib/python3.8/site-packages (from yfinance) (0.0.9)\n",
      "Requirement already satisfied: html5lib>=1.1 in /Users/surekaalmeida/opt/anaconda3/envs/env_zipline/lib/python3.8/site-packages (from yfinance) (1.1)\n",
      "Requirement already satisfied: lxml>=4.9.1 in /Users/surekaalmeida/opt/anaconda3/envs/env_zipline/lib/python3.8/site-packages (from yfinance) (4.9.1)\n",
      "Requirement already satisfied: appdirs>=1.4.4 in /Users/surekaalmeida/opt/anaconda3/envs/env_zipline/lib/python3.8/site-packages (from yfinance) (1.4.4)\n",
      "Requirement already satisfied: cvxpy<2.0.0,>=1.1.10 in /Users/surekaalmeida/opt/anaconda3/envs/env_zipline/lib/python3.8/site-packages (from PyPortfolioOpt) (1.3.1)\n",
      "Requirement already satisfied: scipy<2.0,>=1.3 in /Users/surekaalmeida/opt/anaconda3/envs/env_zipline/lib/python3.8/site-packages (from PyPortfolioOpt) (1.10.0)\n",
      "Requirement already satisfied: soupsieve>1.2 in /Users/surekaalmeida/opt/anaconda3/envs/env_zipline/lib/python3.8/site-packages (from beautifulsoup4>=4.11.1->yfinance) (2.3.2.post1)\n",
      "Requirement already satisfied: cffi>=1.12 in /Users/surekaalmeida/opt/anaconda3/envs/env_zipline/lib/python3.8/site-packages (from cryptography>=3.3.2->yfinance) (1.15.1)\n",
      "Requirement already satisfied: osqp>=0.4.1 in /Users/surekaalmeida/opt/anaconda3/envs/env_zipline/lib/python3.8/site-packages (from cvxpy<2.0.0,>=1.1.10->PyPortfolioOpt) (0.6.2.post0)\n",
      "Requirement already satisfied: setuptools>65.5.1 in /Users/surekaalmeida/opt/anaconda3/envs/env_zipline/lib/python3.8/site-packages (from cvxpy<2.0.0,>=1.1.10->PyPortfolioOpt) (65.6.3)\n",
      "Requirement already satisfied: scs>=1.1.6 in /Users/surekaalmeida/opt/anaconda3/envs/env_zipline/lib/python3.8/site-packages (from cvxpy<2.0.0,>=1.1.10->PyPortfolioOpt) (3.2.3)\n",
      "Requirement already satisfied: ecos>=2 in /Users/surekaalmeida/opt/anaconda3/envs/env_zipline/lib/python3.8/site-packages (from cvxpy<2.0.0,>=1.1.10->PyPortfolioOpt) (2.0.11)\n",
      "Requirement already satisfied: six>=1.9 in /Users/surekaalmeida/opt/anaconda3/envs/env_zipline/lib/python3.8/site-packages (from html5lib>=1.1->yfinance) (1.16.0)\n",
      "Requirement already satisfied: webencodings in /Users/surekaalmeida/opt/anaconda3/envs/env_zipline/lib/python3.8/site-packages (from html5lib>=1.1->yfinance) (0.5.1)\n",
      "Requirement already satisfied: zipp>=3.1.0 in /Users/surekaalmeida/opt/anaconda3/envs/env_zipline/lib/python3.8/site-packages (from importlib-resources>=3.2.0->matplotlib) (3.11.0)\n",
      "Requirement already satisfied: urllib3<1.27,>=1.21.1 in /Users/surekaalmeida/opt/anaconda3/envs/env_zipline/lib/python3.8/site-packages (from requests>=2.26->yfinance) (1.26.14)\n",
      "Requirement already satisfied: charset-normalizer<3,>=2 in /Users/surekaalmeida/opt/anaconda3/envs/env_zipline/lib/python3.8/site-packages (from requests>=2.26->yfinance) (2.0.4)\n",
      "Requirement already satisfied: idna<4,>=2.5 in /Users/surekaalmeida/opt/anaconda3/envs/env_zipline/lib/python3.8/site-packages (from requests>=2.26->yfinance) (3.4)\n",
      "Requirement already satisfied: certifi>=2017.4.17 in /Users/surekaalmeida/opt/anaconda3/envs/env_zipline/lib/python3.8/site-packages (from requests>=2.26->yfinance) (2022.12.7)\n",
      "Requirement already satisfied: pycparser in /Users/surekaalmeida/opt/anaconda3/envs/env_zipline/lib/python3.8/site-packages (from cffi>=1.12->cryptography>=3.3.2->yfinance) (2.21)\n",
      "Requirement already satisfied: qdldl in /Users/surekaalmeida/opt/anaconda3/envs/env_zipline/lib/python3.8/site-packages (from osqp>=0.4.1->cvxpy<2.0.0,>=1.1.10->PyPortfolioOpt) (0.1.5.post2)\n"
     ]
    }
   ],
   "source": [
    "!pip install pandas numpy matplotlib yfinance PyPortfolioOpt\n",
    "import os\n",
    "if not os.path.isdir('data'):\n",
    "    os.system('git clone https://github.com/robertmartin8/PyPortfolioOpt.git')\n",
    "    os.chdir('PyPortfolioOpt/cookbook')"
   ]
  },
  {
   "cell_type": "code",
   "execution_count": 2,
   "id": "committed-riverside",
   "metadata": {
    "colab": {
     "base_uri": "https://localhost:8080/",
     "height": 35
    },
    "id": "committed-riverside",
    "outputId": "a3c8fb63-b1ef-4696-c0df-5b16f37700d8"
   },
   "outputs": [
    {
     "data": {
      "text/plain": [
       "'1.5.4'"
      ]
     },
     "execution_count": 2,
     "metadata": {},
     "output_type": "execute_result"
    }
   ],
   "source": [
    "import numpy as np\n",
    "import pandas as pd\n",
    "import matplotlib.pyplot as plt\n",
    "import yfinance as yf\n",
    "import pypfopt\n",
    "\n",
    "pypfopt.__version__"
   ]
  },
  {
   "cell_type": "code",
   "execution_count": 3,
   "id": "accredited-enterprise",
   "metadata": {
    "colab": {
     "base_uri": "https://localhost:8080/",
     "height": 385
    },
    "id": "accredited-enterprise",
    "outputId": "8ffbfbd3-9b0f-4c86-ec5a-0508c068314d"
   },
   "outputs": [
    {
     "name": "stdout",
     "output_type": "stream",
     "text": [
      "[*********************100%***********************]  20 of 20 completed\n"
     ]
    },
    {
     "data": {
      "text/html": [
       "<div>\n",
       "<style scoped>\n",
       "    .dataframe tbody tr th:only-of-type {\n",
       "        vertical-align: middle;\n",
       "    }\n",
       "\n",
       "    .dataframe tbody tr th {\n",
       "        vertical-align: top;\n",
       "    }\n",
       "\n",
       "    .dataframe thead th {\n",
       "        text-align: right;\n",
       "    }\n",
       "</style>\n",
       "<table border=\"1\" class=\"dataframe\">\n",
       "  <thead>\n",
       "    <tr style=\"text-align: right;\">\n",
       "      <th></th>\n",
       "      <th>AAPL</th>\n",
       "      <th>ACN</th>\n",
       "      <th>AMD</th>\n",
       "      <th>AMZN</th>\n",
       "      <th>COST</th>\n",
       "      <th>DIS</th>\n",
       "      <th>F</th>\n",
       "      <th>GILD</th>\n",
       "      <th>JPM</th>\n",
       "      <th>KO</th>\n",
       "      <th>LUV</th>\n",
       "      <th>MA</th>\n",
       "      <th>MSFT</th>\n",
       "      <th>NVDA</th>\n",
       "      <th>PFE</th>\n",
       "      <th>RGS</th>\n",
       "      <th>SOS</th>\n",
       "      <th>TSLA</th>\n",
       "      <th>UNH</th>\n",
       "      <th>XOM</th>\n",
       "    </tr>\n",
       "    <tr>\n",
       "      <th>Date</th>\n",
       "      <th></th>\n",
       "      <th></th>\n",
       "      <th></th>\n",
       "      <th></th>\n",
       "      <th></th>\n",
       "      <th></th>\n",
       "      <th></th>\n",
       "      <th></th>\n",
       "      <th></th>\n",
       "      <th></th>\n",
       "      <th></th>\n",
       "      <th></th>\n",
       "      <th></th>\n",
       "      <th></th>\n",
       "      <th></th>\n",
       "      <th></th>\n",
       "      <th></th>\n",
       "      <th></th>\n",
       "      <th></th>\n",
       "      <th></th>\n",
       "    </tr>\n",
       "  </thead>\n",
       "  <tbody>\n",
       "    <tr>\n",
       "      <th>2023-05-16</th>\n",
       "      <td>172.070007</td>\n",
       "      <td>279.190002</td>\n",
       "      <td>101.480003</td>\n",
       "      <td>113.400002</td>\n",
       "      <td>496.149994</td>\n",
       "      <td>90.980003</td>\n",
       "      <td>11.25</td>\n",
       "      <td>78.320000</td>\n",
       "      <td>134.320007</td>\n",
       "      <td>63.220001</td>\n",
       "      <td>28.540001</td>\n",
       "      <td>380.239990</td>\n",
       "      <td>311.059998</td>\n",
       "      <td>292.130005</td>\n",
       "      <td>37.009998</td>\n",
       "      <td>1.04</td>\n",
       "      <td>3.92</td>\n",
       "      <td>166.520004</td>\n",
       "      <td>479.720001</td>\n",
       "      <td>102.519997</td>\n",
       "    </tr>\n",
       "    <tr>\n",
       "      <th>2023-05-17</th>\n",
       "      <td>172.690002</td>\n",
       "      <td>284.630005</td>\n",
       "      <td>103.750000</td>\n",
       "      <td>115.500000</td>\n",
       "      <td>495.000000</td>\n",
       "      <td>92.769997</td>\n",
       "      <td>11.50</td>\n",
       "      <td>78.809998</td>\n",
       "      <td>138.449997</td>\n",
       "      <td>63.150002</td>\n",
       "      <td>29.879999</td>\n",
       "      <td>387.000000</td>\n",
       "      <td>314.000000</td>\n",
       "      <td>301.779999</td>\n",
       "      <td>36.750000</td>\n",
       "      <td>1.04</td>\n",
       "      <td>3.93</td>\n",
       "      <td>173.860001</td>\n",
       "      <td>484.809998</td>\n",
       "      <td>104.820000</td>\n",
       "    </tr>\n",
       "    <tr>\n",
       "      <th>2023-05-18</th>\n",
       "      <td>175.050003</td>\n",
       "      <td>287.480011</td>\n",
       "      <td>107.930000</td>\n",
       "      <td>118.150002</td>\n",
       "      <td>498.100006</td>\n",
       "      <td>93.760002</td>\n",
       "      <td>11.64</td>\n",
       "      <td>78.209999</td>\n",
       "      <td>139.500000</td>\n",
       "      <td>62.799999</td>\n",
       "      <td>29.959999</td>\n",
       "      <td>392.019989</td>\n",
       "      <td>318.519989</td>\n",
       "      <td>316.779999</td>\n",
       "      <td>36.480000</td>\n",
       "      <td>1.02</td>\n",
       "      <td>4.00</td>\n",
       "      <td>176.889999</td>\n",
       "      <td>479.230011</td>\n",
       "      <td>105.769997</td>\n",
       "    </tr>\n",
       "    <tr>\n",
       "      <th>2023-05-19</th>\n",
       "      <td>175.160004</td>\n",
       "      <td>289.910004</td>\n",
       "      <td>105.820000</td>\n",
       "      <td>116.250000</td>\n",
       "      <td>496.519989</td>\n",
       "      <td>91.349998</td>\n",
       "      <td>11.65</td>\n",
       "      <td>78.849998</td>\n",
       "      <td>139.179993</td>\n",
       "      <td>62.830002</td>\n",
       "      <td>29.480000</td>\n",
       "      <td>385.570007</td>\n",
       "      <td>318.339996</td>\n",
       "      <td>312.640015</td>\n",
       "      <td>36.770000</td>\n",
       "      <td>1.01</td>\n",
       "      <td>3.89</td>\n",
       "      <td>180.139999</td>\n",
       "      <td>478.820007</td>\n",
       "      <td>106.260002</td>\n",
       "    </tr>\n",
       "    <tr>\n",
       "      <th>2023-05-22</th>\n",
       "      <td>174.199997</td>\n",
       "      <td>290.950012</td>\n",
       "      <td>108.000000</td>\n",
       "      <td>115.010002</td>\n",
       "      <td>491.869995</td>\n",
       "      <td>91.820000</td>\n",
       "      <td>11.63</td>\n",
       "      <td>78.620003</td>\n",
       "      <td>138.029999</td>\n",
       "      <td>61.509998</td>\n",
       "      <td>29.320000</td>\n",
       "      <td>384.529999</td>\n",
       "      <td>321.179993</td>\n",
       "      <td>311.760010</td>\n",
       "      <td>38.750000</td>\n",
       "      <td>1.02</td>\n",
       "      <td>4.02</td>\n",
       "      <td>188.869995</td>\n",
       "      <td>480.619995</td>\n",
       "      <td>104.970001</td>\n",
       "    </tr>\n",
       "  </tbody>\n",
       "</table>\n",
       "</div>"
      ],
      "text/plain": [
       "                  AAPL         ACN         AMD        AMZN        COST   \n",
       "Date                                                                     \n",
       "2023-05-16  172.070007  279.190002  101.480003  113.400002  496.149994  \\\n",
       "2023-05-17  172.690002  284.630005  103.750000  115.500000  495.000000   \n",
       "2023-05-18  175.050003  287.480011  107.930000  118.150002  498.100006   \n",
       "2023-05-19  175.160004  289.910004  105.820000  116.250000  496.519989   \n",
       "2023-05-22  174.199997  290.950012  108.000000  115.010002  491.869995   \n",
       "\n",
       "                  DIS      F       GILD         JPM         KO        LUV   \n",
       "Date                                                                        \n",
       "2023-05-16  90.980003  11.25  78.320000  134.320007  63.220001  28.540001  \\\n",
       "2023-05-17  92.769997  11.50  78.809998  138.449997  63.150002  29.879999   \n",
       "2023-05-18  93.760002  11.64  78.209999  139.500000  62.799999  29.959999   \n",
       "2023-05-19  91.349998  11.65  78.849998  139.179993  62.830002  29.480000   \n",
       "2023-05-22  91.820000  11.63  78.620003  138.029999  61.509998  29.320000   \n",
       "\n",
       "                    MA        MSFT        NVDA        PFE   RGS   SOS   \n",
       "Date                                                                    \n",
       "2023-05-16  380.239990  311.059998  292.130005  37.009998  1.04  3.92  \\\n",
       "2023-05-17  387.000000  314.000000  301.779999  36.750000  1.04  3.93   \n",
       "2023-05-18  392.019989  318.519989  316.779999  36.480000  1.02  4.00   \n",
       "2023-05-19  385.570007  318.339996  312.640015  36.770000  1.01  3.89   \n",
       "2023-05-22  384.529999  321.179993  311.760010  38.750000  1.02  4.02   \n",
       "\n",
       "                  TSLA         UNH         XOM  \n",
       "Date                                            \n",
       "2023-05-16  166.520004  479.720001  102.519997  \n",
       "2023-05-17  173.860001  484.809998  104.820000  \n",
       "2023-05-18  176.889999  479.230011  105.769997  \n",
       "2023-05-19  180.139999  478.820007  106.260002  \n",
       "2023-05-22  188.869995  480.619995  104.970001  "
      ]
     },
     "execution_count": 3,
     "metadata": {},
     "output_type": "execute_result"
    }
   ],
   "source": [
    "tickers = [\"MSFT\", \"AMZN\", \"KO\", \"MA\", \"COST\", \n",
    "           \"LUV\", \"XOM\", \"PFE\", \"JPM\", \"UNH\", \n",
    "           \"ACN\", \"DIS\", \"GILD\", \"F\", \"TSLA\",\"NVDA\",\"AAPL\",\"AMD\",\"F\",\"SOS\",\"RGS\"] \n",
    "\n",
    "ohlc = yf.download(tickers, period=\"max\")\n",
    "prices = ohlc[\"Adj Close\"]\n",
    "prices.tail()"
   ]
  },
  {
   "cell_type": "code",
   "execution_count": 4,
   "id": "confident-plant",
   "metadata": {
    "colab": {
     "base_uri": "https://localhost:8080/",
     "height": 281
    },
    "id": "confident-plant",
    "outputId": "3ca52fc5-22ff-4a25-d58d-9f3700b04bb3"
   },
   "outputs": [
    {
     "data": {
      "text/html": [
       "<div>\n",
       "<style scoped>\n",
       "    .dataframe tbody tr th:only-of-type {\n",
       "        vertical-align: middle;\n",
       "    }\n",
       "\n",
       "    .dataframe tbody tr th {\n",
       "        vertical-align: top;\n",
       "    }\n",
       "\n",
       "    .dataframe thead th {\n",
       "        text-align: right;\n",
       "    }\n",
       "</style>\n",
       "<table border=\"1\" class=\"dataframe\">\n",
       "  <thead>\n",
       "    <tr style=\"text-align: right;\">\n",
       "      <th></th>\n",
       "      <th>AAPL</th>\n",
       "      <th>ACN</th>\n",
       "      <th>AMD</th>\n",
       "      <th>AMZN</th>\n",
       "      <th>COST</th>\n",
       "      <th>DIS</th>\n",
       "      <th>F</th>\n",
       "      <th>GILD</th>\n",
       "      <th>JPM</th>\n",
       "      <th>KO</th>\n",
       "      <th>LUV</th>\n",
       "      <th>MA</th>\n",
       "      <th>MSFT</th>\n",
       "      <th>NVDA</th>\n",
       "      <th>PFE</th>\n",
       "      <th>RGS</th>\n",
       "      <th>SOS</th>\n",
       "      <th>TSLA</th>\n",
       "      <th>UNH</th>\n",
       "      <th>XOM</th>\n",
       "    </tr>\n",
       "    <tr>\n",
       "      <th>Date</th>\n",
       "      <th></th>\n",
       "      <th></th>\n",
       "      <th></th>\n",
       "      <th></th>\n",
       "      <th></th>\n",
       "      <th></th>\n",
       "      <th></th>\n",
       "      <th></th>\n",
       "      <th></th>\n",
       "      <th></th>\n",
       "      <th></th>\n",
       "      <th></th>\n",
       "      <th></th>\n",
       "      <th></th>\n",
       "      <th></th>\n",
       "      <th></th>\n",
       "      <th></th>\n",
       "      <th></th>\n",
       "      <th></th>\n",
       "      <th></th>\n",
       "    </tr>\n",
       "  </thead>\n",
       "  <tbody>\n",
       "    <tr>\n",
       "      <th>2023-05-16</th>\n",
       "      <td>0.000000</td>\n",
       "      <td>0.006054</td>\n",
       "      <td>0.041889</td>\n",
       "      <td>0.019784</td>\n",
       "      <td>-0.011732</td>\n",
       "      <td>-0.020246</td>\n",
       "      <td>-0.033505</td>\n",
       "      <td>-0.000765</td>\n",
       "      <td>-0.006729</td>\n",
       "      <td>-0.011261</td>\n",
       "      <td>-0.017556</td>\n",
       "      <td>-0.008268</td>\n",
       "      <td>0.007368</td>\n",
       "      <td>0.008980</td>\n",
       "      <td>-0.004037</td>\n",
       "      <td>-0.009524</td>\n",
       "      <td>0.023499</td>\n",
       "      <td>0.001022</td>\n",
       "      <td>-0.014665</td>\n",
       "      <td>-0.024270</td>\n",
       "    </tr>\n",
       "    <tr>\n",
       "      <th>2023-05-17</th>\n",
       "      <td>0.003603</td>\n",
       "      <td>0.019485</td>\n",
       "      <td>0.022369</td>\n",
       "      <td>0.018519</td>\n",
       "      <td>-0.002318</td>\n",
       "      <td>0.019675</td>\n",
       "      <td>0.022222</td>\n",
       "      <td>0.006256</td>\n",
       "      <td>0.030747</td>\n",
       "      <td>-0.001107</td>\n",
       "      <td>0.046952</td>\n",
       "      <td>0.017778</td>\n",
       "      <td>0.009452</td>\n",
       "      <td>0.033033</td>\n",
       "      <td>-0.007025</td>\n",
       "      <td>0.000000</td>\n",
       "      <td>0.002551</td>\n",
       "      <td>0.044079</td>\n",
       "      <td>0.010610</td>\n",
       "      <td>0.022435</td>\n",
       "    </tr>\n",
       "    <tr>\n",
       "      <th>2023-05-18</th>\n",
       "      <td>0.013666</td>\n",
       "      <td>0.010013</td>\n",
       "      <td>0.040289</td>\n",
       "      <td>0.022944</td>\n",
       "      <td>0.006263</td>\n",
       "      <td>0.010672</td>\n",
       "      <td>0.012174</td>\n",
       "      <td>-0.007613</td>\n",
       "      <td>0.007584</td>\n",
       "      <td>-0.005542</td>\n",
       "      <td>0.002677</td>\n",
       "      <td>0.012972</td>\n",
       "      <td>0.014395</td>\n",
       "      <td>0.049705</td>\n",
       "      <td>-0.007347</td>\n",
       "      <td>-0.019231</td>\n",
       "      <td>0.017812</td>\n",
       "      <td>0.017428</td>\n",
       "      <td>-0.011510</td>\n",
       "      <td>0.009063</td>\n",
       "    </tr>\n",
       "    <tr>\n",
       "      <th>2023-05-19</th>\n",
       "      <td>0.000628</td>\n",
       "      <td>0.008453</td>\n",
       "      <td>-0.019550</td>\n",
       "      <td>-0.016081</td>\n",
       "      <td>-0.003172</td>\n",
       "      <td>-0.025704</td>\n",
       "      <td>0.000859</td>\n",
       "      <td>0.008183</td>\n",
       "      <td>-0.002294</td>\n",
       "      <td>0.000478</td>\n",
       "      <td>-0.016021</td>\n",
       "      <td>-0.016453</td>\n",
       "      <td>-0.000565</td>\n",
       "      <td>-0.013069</td>\n",
       "      <td>0.007950</td>\n",
       "      <td>-0.009804</td>\n",
       "      <td>-0.027500</td>\n",
       "      <td>0.018373</td>\n",
       "      <td>-0.000856</td>\n",
       "      <td>0.004633</td>\n",
       "    </tr>\n",
       "    <tr>\n",
       "      <th>2023-05-22</th>\n",
       "      <td>-0.005481</td>\n",
       "      <td>0.003587</td>\n",
       "      <td>0.020601</td>\n",
       "      <td>-0.010667</td>\n",
       "      <td>-0.009365</td>\n",
       "      <td>0.005145</td>\n",
       "      <td>-0.001717</td>\n",
       "      <td>-0.002917</td>\n",
       "      <td>-0.008263</td>\n",
       "      <td>-0.021009</td>\n",
       "      <td>-0.005427</td>\n",
       "      <td>-0.002697</td>\n",
       "      <td>0.008921</td>\n",
       "      <td>-0.002815</td>\n",
       "      <td>0.053848</td>\n",
       "      <td>0.009901</td>\n",
       "      <td>0.033419</td>\n",
       "      <td>0.048462</td>\n",
       "      <td>0.003759</td>\n",
       "      <td>-0.012140</td>\n",
       "    </tr>\n",
       "  </tbody>\n",
       "</table>\n",
       "</div>"
      ],
      "text/plain": [
       "                AAPL       ACN       AMD      AMZN      COST       DIS   \n",
       "Date                                                                     \n",
       "2023-05-16  0.000000  0.006054  0.041889  0.019784 -0.011732 -0.020246  \\\n",
       "2023-05-17  0.003603  0.019485  0.022369  0.018519 -0.002318  0.019675   \n",
       "2023-05-18  0.013666  0.010013  0.040289  0.022944  0.006263  0.010672   \n",
       "2023-05-19  0.000628  0.008453 -0.019550 -0.016081 -0.003172 -0.025704   \n",
       "2023-05-22 -0.005481  0.003587  0.020601 -0.010667 -0.009365  0.005145   \n",
       "\n",
       "                   F      GILD       JPM        KO       LUV        MA   \n",
       "Date                                                                     \n",
       "2023-05-16 -0.033505 -0.000765 -0.006729 -0.011261 -0.017556 -0.008268  \\\n",
       "2023-05-17  0.022222  0.006256  0.030747 -0.001107  0.046952  0.017778   \n",
       "2023-05-18  0.012174 -0.007613  0.007584 -0.005542  0.002677  0.012972   \n",
       "2023-05-19  0.000859  0.008183 -0.002294  0.000478 -0.016021 -0.016453   \n",
       "2023-05-22 -0.001717 -0.002917 -0.008263 -0.021009 -0.005427 -0.002697   \n",
       "\n",
       "                MSFT      NVDA       PFE       RGS       SOS      TSLA   \n",
       "Date                                                                     \n",
       "2023-05-16  0.007368  0.008980 -0.004037 -0.009524  0.023499  0.001022  \\\n",
       "2023-05-17  0.009452  0.033033 -0.007025  0.000000  0.002551  0.044079   \n",
       "2023-05-18  0.014395  0.049705 -0.007347 -0.019231  0.017812  0.017428   \n",
       "2023-05-19 -0.000565 -0.013069  0.007950 -0.009804 -0.027500  0.018373   \n",
       "2023-05-22  0.008921 -0.002815  0.053848  0.009901  0.033419  0.048462   \n",
       "\n",
       "                 UNH       XOM  \n",
       "Date                            \n",
       "2023-05-16 -0.014665 -0.024270  \n",
       "2023-05-17  0.010610  0.022435  \n",
       "2023-05-18 -0.011510  0.009063  \n",
       "2023-05-19 -0.000856  0.004633  \n",
       "2023-05-22  0.003759 -0.012140  "
      ]
     },
     "execution_count": 4,
     "metadata": {},
     "output_type": "execute_result"
    }
   ],
   "source": [
    "from pypfopt import expected_returns\n",
    "\n",
    "rets = expected_returns.returns_from_prices(prices)\n",
    "rets.tail()"
   ]
  },
  {
   "cell_type": "markdown",
   "id": "answering-tamil",
   "metadata": {
    "id": "answering-tamil"
   },
   "source": [
    "## HRP optimization\n",
    "\n",
    "HRP uses a completely different backend, so it is currently not possible to pass constraints or specify an objective function."
   ]
  },
  {
   "cell_type": "code",
   "execution_count": 5,
   "id": "crazy-minority",
   "metadata": {
    "id": "crazy-minority"
   },
   "outputs": [],
   "source": [
    "from pypfopt import HRPOpt"
   ]
  },
  {
   "cell_type": "code",
   "execution_count": 6,
   "id": "determined-license",
   "metadata": {
    "colab": {
     "base_uri": "https://localhost:8080/"
    },
    "id": "determined-license",
    "outputId": "ba776958-535f-475b-b6bf-7c6994d311f8"
   },
   "outputs": [
    {
     "data": {
      "text/plain": [
       "OrderedDict([('AAPL', 0.02896),\n",
       "             ('ACN', 0.04519),\n",
       "             ('AMD', 0.00968),\n",
       "             ('AMZN', 0.02058),\n",
       "             ('COST', 0.05572),\n",
       "             ('DIS', 0.05336),\n",
       "             ('F', 0.04388),\n",
       "             ('GILD', 0.04657),\n",
       "             ('JPM', 0.04186),\n",
       "             ('KO', 0.13474),\n",
       "             ('LUV', 0.05857),\n",
       "             ('MA', 0.04421),\n",
       "             ('MSFT', 0.03584),\n",
       "             ('NVDA', 0.00935),\n",
       "             ('PFE', 0.10673),\n",
       "             ('RGS', 0.04354),\n",
       "             ('SOS', 0.00567),\n",
       "             ('TSLA', 0.02895),\n",
       "             ('UNH', 0.05935),\n",
       "             ('XOM', 0.12726)])"
      ]
     },
     "execution_count": 6,
     "metadata": {},
     "output_type": "execute_result"
    }
   ],
   "source": [
    "hrp = HRPOpt(rets)\n",
    "hrp.optimize()\n",
    "weights = hrp.clean_weights()\n",
    "weights"
   ]
  },
  {
   "cell_type": "code",
   "execution_count": 7,
   "id": "existing-memphis",
   "metadata": {
    "colab": {
     "base_uri": "https://localhost:8080/",
     "height": 575
    },
    "id": "existing-memphis",
    "outputId": "721f641a-3871-4bae-84f8-94cc0b75be87"
   },
   "outputs": [
    {
     "data": {
      "image/png": "[encoded data removed]",
      "text/plain": [
       "<Figure size 1000x1000 with 1 Axes>"
      ]
     },
     "metadata": {},
     "output_type": "display_data"
    }
   ],
   "source": [
    "pd.Series(weights).plot.pie(figsize=(10, 10));"
   ]
  },
  {
   "cell_type": "code",
   "execution_count": 8,
   "id": "dramatic-spyware",
   "metadata": {
    "colab": {
     "base_uri": "https://localhost:8080/"
    },
    "id": "dramatic-spyware",
    "outputId": "03958175-ebf7-4eb0-cc3a-57d969056f36"
   },
   "outputs": [
    {
     "name": "stdout",
     "output_type": "stream",
     "text": [
      "Expected annual return: 20.1%\n",
      "Annual volatility: 19.2%\n",
      "Sharpe Ratio: 0.94\n"
     ]
    }
   ],
   "source": [
    "hrp.portfolio_performance(verbose=True);"
   ]
  },
  {
   "cell_type": "markdown",
   "id": "occupational-costume",
   "metadata": {
    "id": "occupational-costume"
   },
   "source": [
    "## Plotting\n",
    "\n",
    "It is very simple to plot a dendrogram (tree diagram) based on the hierarchical structure of asset returns"
   ]
  },
  {
   "cell_type": "code",
   "execution_count": 9,
   "id": "upset-meaning",
   "metadata": {
    "colab": {
     "base_uri": "https://localhost:8080/",
     "height": 297
    },
    "id": "upset-meaning",
    "outputId": "65f2985a-e74f-405c-a01a-d7877a0e5326"
   },
   "outputs": [
    {
     "data": {
      "image/png": "[encoded data removed]",
      "text/plain": [
       "<Figure size 640x480 with 1 Axes>"
      ]
     },
     "metadata": {},
     "output_type": "display_data"
    }
   ],
   "source": [
    "from pypfopt import plotting\n",
    "\n",
    "plotting.plot_dendrogram(hrp); "
   ]
  },
  {
   "cell_type": "markdown",
   "id": "brave-shock",
   "metadata": {
    "id": "brave-shock"
   },
   "source": [
    "If you look at this dendogram closely, you can see that most of the clusters make a lot of sense. For example, AMD and NVDA (both semiconductor manufacturers) are grouped."
   ]
  },
  {
   "cell_type": "code",
   "execution_count": 9,
   "id": "macro-found",
   "metadata": {
    "id": "macro-found"
   },
   "outputs": [],
   "source": []
  }
 ],
 "metadata": {
  "colab": {
   "collapsed_sections": [],
   "name": "5-Hierarchical-Risk-Parity.ipynb",
   "provenance": []
  },
  "kernelspec": {
   "display_name": "Python 3 (ipykernel)",
   "language": "python",
   "name": "python3"
  },
  "language_info": {
   "codemirror_mode": {
    "name": "ipython",
    "version": 3
   },
   "file_extension": ".py",
   "mimetype": "text/x-python",
   "name": "python",
   "nbconvert_exporter": "python",
   "pygments_lexer": "ipython3",
   "version": "3.8.16"
  }
 },
 "nbformat": 4,
 "nbformat_minor": 5
}
