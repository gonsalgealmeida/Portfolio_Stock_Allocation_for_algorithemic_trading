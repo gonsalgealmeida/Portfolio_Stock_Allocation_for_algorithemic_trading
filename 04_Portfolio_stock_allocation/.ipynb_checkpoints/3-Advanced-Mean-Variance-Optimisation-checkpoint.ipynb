{
 "cells": [
  {
   "cell_type": "markdown",
   "metadata": {
    "id": "pQhw2JJu_YO0"
   },
   "source": [
    "# Advanced MVO - custom objectives\n",
    "\n",
    "PyPortfolioOpt has implemented some of the most common objective functions (e.g `min_volatility`, `max_sharpe`, `max_quadratic_utility`, `efficient_risk`, `efficient_return`). However, sometimes yoy may have an idea for a different objective function.\n",
    "\n",
    "In this cookbook recipe, we cover:\n",
    "\n",
    "- Mininimising transaction costs\n",
    "- Custom convex objectives\n",
    "- Custom nonconvex objectives\n",
    "\n",
    "## Acquiring data\n",
    "\n",
    "As discussed in the previous notebook, assets are an exogenous input (i.e you must come up with a list of tickers). We will use `yfinance` to download data for thesee tickers\n",
    "\n",
    "[![Open In Colab](https://colab.research.google.com/assets/colab-badge.svg)](https://colab.research.google.com/github/robertmartin8/PyPortfolioOpt/blob/master/cookbook/3-Advanced-Mean-Variance-Optimisation.ipynb)\n",
    "    \n",
    "[![Kaggle](https://kaggle.com/static/images/open-in-kaggle.svg)](https://kaggle.com/kernels/welcome?src=https://github.com/robertmartin8/PyPortfolioOpt/blob/master/cookbook/3-Advanced-Mean-Variance-Optimisation.ipynb)\n",
    "    \n",
    "[![Gradient](https://assets.paperspace.io/img/gradient-badge.svg)](https://console.paperspace.com/github/robertmartin8/PyPortfolioOpt/blob/master/cookbook/3-Advanced-Mean-Variance-Optimisation.ipynb)\n",
    "    \n",
    "[![Open In SageMaker Studio Lab](https://studiolab.sagemaker.aws/studiolab.svg)](https://studiolab.sagemaker.aws/import/github/robertmartin8/PyPortfolioOpt/blob/master/cookbook/3-Advanced-Mean-Variance-Optimisation.ipynb)"
   ]
  },
  {
   "cell_type": "code",
   "execution_count": 5,
   "metadata": {
    "colab": {
     "base_uri": "https://localhost:8080/"
    },
    "id": "kWJJAvG4_iEz",
    "outputId": "26b7d743-eb20-4fb5-a99d-f4a5098ee8ad"
   },
   "outputs": [
    {
     "name": "stdout",
     "output_type": "stream",
     "text": [
      "Requirement already satisfied: pandas in /usr/local/lib/python3.7/dist-packages (1.3.5)\n",
      "Requirement already satisfied: numpy in /usr/local/lib/python3.7/dist-packages (1.19.5)\n",
      "Requirement already satisfied: matplotlib in /usr/local/lib/python3.7/dist-packages (3.2.2)\n",
      "Collecting yfinance\n",
      "  Downloading yfinance-0.1.70-py2.py3-none-any.whl (26 kB)\n",
      "Collecting PyPortfolioOpt\n",
      "  Downloading PyPortfolioOpt-1.5.1-py3-none-any.whl (61 kB)\n",
      "\u001b[K     |████████████████████████████████| 61 kB 5.0 MB/s \n",
      "\u001b[?25hRequirement already satisfied: pytz>=2017.3 in /usr/local/lib/python3.7/dist-packages (from pandas) (2018.9)\n",
      "Requirement already satisfied: python-dateutil>=2.7.3 in /usr/local/lib/python3.7/dist-packages (from pandas) (2.8.2)\n",
      "Requirement already satisfied: six>=1.5 in /usr/local/lib/python3.7/dist-packages (from python-dateutil>=2.7.3->pandas) (1.15.0)\n",
      "Requirement already satisfied: kiwisolver>=1.0.1 in /usr/local/lib/python3.7/dist-packages (from matplotlib) (1.3.2)\n",
      "Requirement already satisfied: cycler>=0.10 in /usr/local/lib/python3.7/dist-packages (from matplotlib) (0.11.0)\n",
      "Requirement already satisfied: pyparsing!=2.0.4,!=2.1.2,!=2.1.6,>=2.0.1 in /usr/local/lib/python3.7/dist-packages (from matplotlib) (3.0.7)\n",
      "Requirement already satisfied: multitasking>=0.0.7 in /usr/local/lib/python3.7/dist-packages (from yfinance) (0.0.10)\n",
      "Collecting requests>=2.26\n",
      "  Downloading requests-2.27.1-py2.py3-none-any.whl (63 kB)\n",
      "\u001b[K     |████████████████████████████████| 63 kB 1.9 MB/s \n",
      "\u001b[?25hCollecting lxml>=4.5.1\n",
      "  Downloading lxml-4.7.1-cp37-cp37m-manylinux_2_17_x86_64.manylinux2014_x86_64.manylinux_2_24_x86_64.whl (6.4 MB)\n",
      "\u001b[K     |████████████████████████████████| 6.4 MB 48.9 MB/s \n",
      "\u001b[?25hRequirement already satisfied: idna<4,>=2.5 in /usr/local/lib/python3.7/dist-packages (from requests>=2.26->yfinance) (2.10)\n",
      "Requirement already satisfied: urllib3<1.27,>=1.21.1 in /usr/local/lib/python3.7/dist-packages (from requests>=2.26->yfinance) (1.24.3)\n",
      "Requirement already satisfied: certifi>=2017.4.17 in /usr/local/lib/python3.7/dist-packages (from requests>=2.26->yfinance) (2021.10.8)\n",
      "Requirement already satisfied: charset-normalizer~=2.0.0 in /usr/local/lib/python3.7/dist-packages (from requests>=2.26->yfinance) (2.0.11)\n",
      "Requirement already satisfied: scipy<2.0,>=1.3 in /usr/local/lib/python3.7/dist-packages (from PyPortfolioOpt) (1.4.1)\n",
      "Collecting cvxpy<2.0.0,>=1.1.10\n",
      "  Downloading cvxpy-1.1.18-cp37-cp37m-manylinux_2_24_x86_64.whl (2.7 MB)\n",
      "\u001b[K     |████████████████████████████████| 2.7 MB 42.3 MB/s \n",
      "\u001b[?25hRequirement already satisfied: scs>=1.1.6 in /usr/local/lib/python3.7/dist-packages (from cvxpy<2.0.0,>=1.1.10->PyPortfolioOpt) (3.1.0)\n",
      "Requirement already satisfied: ecos>=2 in /usr/local/lib/python3.7/dist-packages (from cvxpy<2.0.0,>=1.1.10->PyPortfolioOpt) (2.0.10)\n",
      "Requirement already satisfied: osqp>=0.4.1 in /usr/local/lib/python3.7/dist-packages (from cvxpy<2.0.0,>=1.1.10->PyPortfolioOpt) (0.6.2.post0)\n",
      "Requirement already satisfied: qdldl in /usr/local/lib/python3.7/dist-packages (from osqp>=0.4.1->cvxpy<2.0.0,>=1.1.10->PyPortfolioOpt) (0.1.5.post0)\n",
      "Installing collected packages: requests, lxml, cvxpy, yfinance, PyPortfolioOpt\n",
      "  Attempting uninstall: requests\n",
      "    Found existing installation: requests 2.23.0\n",
      "    Uninstalling requests-2.23.0:\n",
      "      Successfully uninstalled requests-2.23.0\n",
      "  Attempting uninstall: lxml\n",
      "    Found existing installation: lxml 4.2.6\n",
      "    Uninstalling lxml-4.2.6:\n",
      "      Successfully uninstalled lxml-4.2.6\n",
      "  Attempting uninstall: cvxpy\n",
      "    Found existing installation: cvxpy 1.0.31\n",
      "    Uninstalling cvxpy-1.0.31:\n",
      "      Successfully uninstalled cvxpy-1.0.31\n",
      "\u001b[31mERROR: pip's dependency resolver does not currently take into account all the packages that are installed. This behaviour is the source of the following dependency conflicts.\n",
      "google-colab 1.0.0 requires requests~=2.23.0, but you have requests 2.27.1 which is incompatible.\n",
      "datascience 0.10.6 requires folium==0.2.1, but you have folium 0.8.3 which is incompatible.\u001b[0m\n",
      "Successfully installed PyPortfolioOpt-1.5.1 cvxpy-1.1.18 lxml-4.7.1 requests-2.27.1 yfinance-0.1.70\n"
     ]
    }
   ],
   "source": [
    "!pip install pandas numpy matplotlib yfinance PyPortfolioOpt\n",
    "import os\n",
    "if not os.path.isdir('data'):\n",
    "    os.system('git clone https://github.com/robertmartin8/PyPortfolioOpt.git')\n",
    "    os.chdir('PyPortfolioOpt/cookbook')"
   ]
  },
  {
   "cell_type": "code",
   "execution_count": 6,
   "metadata": {
    "id": "yd0GLGye_YO1"
   },
   "outputs": [],
   "source": [
    "import yfinance as yf\n",
    "import pandas as pd\n",
    "import numpy as np\n",
    "import matplotlib.pyplot as plt"
   ]
  },
  {
   "cell_type": "code",
   "execution_count": 7,
   "metadata": {
    "id": "HRko0Vbr_YO2"
   },
   "outputs": [],
   "source": [
    "tickers = [\"BLK\", \"BAC\", \"AAPL\", \"TM\", \"WMT\",\n",
    "           \"JD\", \"INTU\", \"MA\", \"UL\", \"CVS\",\n",
    "           \"DIS\", \"AMD\", \"NVDA\", \"PBI\", \"TGT\"]"
   ]
  },
  {
   "cell_type": "code",
   "execution_count": 8,
   "metadata": {
    "colab": {
     "base_uri": "https://localhost:8080/"
    },
    "id": "b8QidoAw_YO2",
    "outputId": "cc6b4958-fa84-48d8-9a8a-3dd63d59d085"
   },
   "outputs": [
    {
     "name": "stdout",
     "output_type": "stream",
     "text": [
      "[*********************100%***********************]  15 of 15 completed\n"
     ]
    }
   ],
   "source": [
    "ohlc = yf.download(tickers, period=\"max\")"
   ]
  },
  {
   "cell_type": "code",
   "execution_count": 9,
   "metadata": {
    "colab": {
     "base_uri": "https://localhost:8080/",
     "height": 368
    },
    "id": "41-UTlPR_YO3",
    "outputId": "45e79da8-c066-4962-d5e2-57baafa8d68c"
   },
   "outputs": [
    {
     "data": {
      "text/html": [
       "\n",
       "  <div id=\"df-3cf465d7-73b3-4487-bf3a-a90c0188319d\">\n",
       "    <div class=\"colab-df-container\">\n",
       "      <div>\n",
       "<style scoped>\n",
       "    .dataframe tbody tr th:only-of-type {\n",
       "        vertical-align: middle;\n",
       "    }\n",
       "\n",
       "    .dataframe tbody tr th {\n",
       "        vertical-align: top;\n",
       "    }\n",
       "\n",
       "    .dataframe thead th {\n",
       "        text-align: right;\n",
       "    }\n",
       "</style>\n",
       "<table border=\"1\" class=\"dataframe\">\n",
       "  <thead>\n",
       "    <tr style=\"text-align: right;\">\n",
       "      <th></th>\n",
       "      <th>AAPL</th>\n",
       "      <th>AMD</th>\n",
       "      <th>BAC</th>\n",
       "      <th>BLK</th>\n",
       "      <th>CVS</th>\n",
       "      <th>DIS</th>\n",
       "      <th>INTU</th>\n",
       "      <th>JD</th>\n",
       "      <th>MA</th>\n",
       "      <th>NVDA</th>\n",
       "      <th>PBI</th>\n",
       "      <th>TGT</th>\n",
       "      <th>TM</th>\n",
       "      <th>UL</th>\n",
       "      <th>WMT</th>\n",
       "    </tr>\n",
       "    <tr>\n",
       "      <th>Date</th>\n",
       "      <th></th>\n",
       "      <th></th>\n",
       "      <th></th>\n",
       "      <th></th>\n",
       "      <th></th>\n",
       "      <th></th>\n",
       "      <th></th>\n",
       "      <th></th>\n",
       "      <th></th>\n",
       "      <th></th>\n",
       "      <th></th>\n",
       "      <th></th>\n",
       "      <th></th>\n",
       "      <th></th>\n",
       "      <th></th>\n",
       "    </tr>\n",
       "  </thead>\n",
       "  <tbody>\n",
       "    <tr>\n",
       "      <th>2022-02-07</th>\n",
       "      <td>171.660004</td>\n",
       "      <td>123.669998</td>\n",
       "      <td>48.509998</td>\n",
       "      <td>816.919983</td>\n",
       "      <td>109.410004</td>\n",
       "      <td>142.509995</td>\n",
       "      <td>545.280029</td>\n",
       "      <td>73.150002</td>\n",
       "      <td>376.130005</td>\n",
       "      <td>247.279999</td>\n",
       "      <td>4.81</td>\n",
       "      <td>211.289993</td>\n",
       "      <td>197.240005</td>\n",
       "      <td>52.250000</td>\n",
       "      <td>137.960007</td>\n",
       "    </tr>\n",
       "    <tr>\n",
       "      <th>2022-02-08</th>\n",
       "      <td>174.830002</td>\n",
       "      <td>128.229996</td>\n",
       "      <td>49.380001</td>\n",
       "      <td>807.390015</td>\n",
       "      <td>110.830002</td>\n",
       "      <td>142.479996</td>\n",
       "      <td>554.229980</td>\n",
       "      <td>75.360001</td>\n",
       "      <td>374.369995</td>\n",
       "      <td>251.080002</td>\n",
       "      <td>5.04</td>\n",
       "      <td>212.949997</td>\n",
       "      <td>200.320007</td>\n",
       "      <td>52.299999</td>\n",
       "      <td>137.990005</td>\n",
       "    </tr>\n",
       "    <tr>\n",
       "      <th>2022-02-09</th>\n",
       "      <td>176.279999</td>\n",
       "      <td>132.850006</td>\n",
       "      <td>49.279999</td>\n",
       "      <td>813.000000</td>\n",
       "      <td>104.790001</td>\n",
       "      <td>147.229996</td>\n",
       "      <td>579.400024</td>\n",
       "      <td>78.290001</td>\n",
       "      <td>381.369995</td>\n",
       "      <td>267.049988</td>\n",
       "      <td>5.10</td>\n",
       "      <td>216.639999</td>\n",
       "      <td>201.369995</td>\n",
       "      <td>52.139999</td>\n",
       "      <td>137.690002</td>\n",
       "    </tr>\n",
       "    <tr>\n",
       "      <th>2022-02-10</th>\n",
       "      <td>172.119995</td>\n",
       "      <td>125.769997</td>\n",
       "      <td>49.049999</td>\n",
       "      <td>778.190002</td>\n",
       "      <td>105.320000</td>\n",
       "      <td>152.160004</td>\n",
       "      <td>557.580017</td>\n",
       "      <td>76.400002</td>\n",
       "      <td>374.390015</td>\n",
       "      <td>258.239990</td>\n",
       "      <td>4.94</td>\n",
       "      <td>213.839996</td>\n",
       "      <td>194.410004</td>\n",
       "      <td>51.220001</td>\n",
       "      <td>136.080002</td>\n",
       "    </tr>\n",
       "    <tr>\n",
       "      <th>2022-02-11</th>\n",
       "      <td>168.639999</td>\n",
       "      <td>113.180000</td>\n",
       "      <td>47.919998</td>\n",
       "      <td>772.489990</td>\n",
       "      <td>104.239998</td>\n",
       "      <td>149.470001</td>\n",
       "      <td>535.809998</td>\n",
       "      <td>73.980003</td>\n",
       "      <td>369.769989</td>\n",
       "      <td>239.490005</td>\n",
       "      <td>4.91</td>\n",
       "      <td>211.559998</td>\n",
       "      <td>192.710007</td>\n",
       "      <td>52.730000</td>\n",
       "      <td>135.330002</td>\n",
       "    </tr>\n",
       "  </tbody>\n",
       "</table>\n",
       "</div>\n",
       "      <button class=\"colab-df-convert\" onclick=\"convertToInteractive('df-3cf465d7-73b3-4487-bf3a-a90c0188319d')\"\n",
       "              title=\"Convert this dataframe to an interactive table.\"\n",
       "              style=\"display:none;\">\n",
       "        \n",
       "  <svg xmlns=\"http://www.w3.org/2000/svg\" height=\"24px\"viewBox=\"0 0 24 24\"\n",
       "       width=\"24px\">\n",
       "    <path d=\"M0 0h24v24H0V0z\" fill=\"none\"/>\n",
       "    <path d=\"M18.56 5.44l.94 2.06.94-2.06 2.06-.94-2.06-.94-.94-2.06-.94 2.06-2.06.94zm-11 1L8.5 8.5l.94-2.06 2.06-.94-2.06-.94L8.5 2.5l-.94 2.06-2.06.94zm10 10l.94 2.06.94-2.06 2.06-.94-2.06-.94-.94-2.06-.94 2.06-2.06.94z\"/><path d=\"M17.41 7.96l-1.37-1.37c-.4-.4-.92-.59-1.43-.59-.52 0-1.04.2-1.43.59L10.3 9.45l-7.72 7.72c-.78.78-.78 2.05 0 2.83L4 21.41c.39.39.9.59 1.41.59.51 0 1.02-.2 1.41-.59l7.78-7.78 2.81-2.81c.8-.78.8-2.07 0-2.86zM5.41 20L4 18.59l7.72-7.72 1.47 1.35L5.41 20z\"/>\n",
       "  </svg>\n",
       "      </button>\n",
       "      \n",
       "  <style>\n",
       "    .colab-df-container {\n",
       "      display:flex;\n",
       "      flex-wrap:wrap;\n",
       "      gap: 12px;\n",
       "    }\n",
       "\n",
       "    .colab-df-convert {\n",
       "      background-color: #E8F0FE;\n",
       "      border: none;\n",
       "      border-radius: 50%;\n",
       "      cursor: pointer;\n",
       "      display: none;\n",
       "      fill: #1967D2;\n",
       "      height: 32px;\n",
       "      padding: 0 0 0 0;\n",
       "      width: 32px;\n",
       "    }\n",
       "\n",
       "    .colab-df-convert:hover {\n",
       "      background-color: #E2EBFA;\n",
       "      box-shadow: 0px 1px 2px rgba(60, 64, 67, 0.3), 0px 1px 3px 1px rgba(60, 64, 67, 0.15);\n",
       "      fill: #174EA6;\n",
       "    }\n",
       "\n",
       "    [theme=dark] .colab-df-convert {\n",
       "      background-color: #3B4455;\n",
       "      fill: #D2E3FC;\n",
       "    }\n",
       "\n",
       "    [theme=dark] .colab-df-convert:hover {\n",
       "      background-color: #434B5C;\n",
       "      box-shadow: 0px 1px 3px 1px rgba(0, 0, 0, 0.15);\n",
       "      filter: drop-shadow(0px 1px 2px rgba(0, 0, 0, 0.3));\n",
       "      fill: #FFFFFF;\n",
       "    }\n",
       "  </style>\n",
       "\n",
       "      <script>\n",
       "        const buttonEl =\n",
       "          document.querySelector('#df-3cf465d7-73b3-4487-bf3a-a90c0188319d button.colab-df-convert');\n",
       "        buttonEl.style.display =\n",
       "          google.colab.kernel.accessAllowed ? 'block' : 'none';\n",
       "\n",
       "        async function convertToInteractive(key) {\n",
       "          const element = document.querySelector('#df-3cf465d7-73b3-4487-bf3a-a90c0188319d');\n",
       "          const dataTable =\n",
       "            await google.colab.kernel.invokeFunction('convertToInteractive',\n",
       "                                                     [key], {});\n",
       "          if (!dataTable) return;\n",
       "\n",
       "          const docLinkHtml = 'Like what you see? Visit the ' +\n",
       "            '<a target=\"_blank\" href=https://colab.research.google.com/notebooks/data_table.ipynb>data table notebook</a>'\n",
       "            + ' to learn more about interactive tables.';\n",
       "          element.innerHTML = '';\n",
       "          dataTable['output_type'] = 'display_data';\n",
       "          await google.colab.output.renderOutput(dataTable, element);\n",
       "          const docLink = document.createElement('div');\n",
       "          docLink.innerHTML = docLinkHtml;\n",
       "          element.appendChild(docLink);\n",
       "        }\n",
       "      </script>\n",
       "    </div>\n",
       "  </div>\n",
       "  "
      ],
      "text/plain": [
       "                  AAPL         AMD  ...         UL         WMT\n",
       "Date                                ...                       \n",
       "2022-02-07  171.660004  123.669998  ...  52.250000  137.960007\n",
       "2022-02-08  174.830002  128.229996  ...  52.299999  137.990005\n",
       "2022-02-09  176.279999  132.850006  ...  52.139999  137.690002\n",
       "2022-02-10  172.119995  125.769997  ...  51.220001  136.080002\n",
       "2022-02-11  168.639999  113.180000  ...  52.730000  135.330002\n",
       "\n",
       "[5 rows x 15 columns]"
      ]
     },
     "execution_count": 9,
     "metadata": {},
     "output_type": "execute_result"
    }
   ],
   "source": [
    "prices = ohlc[\"Adj Close\"]\n",
    "prices.tail()"
   ]
  },
  {
   "cell_type": "markdown",
   "metadata": {
    "id": "8fZeMKRg_YO4"
   },
   "source": [
    "## Expected returns and risk models\n",
    "\n",
    "In this notebook, we will use James-Stein shrinkage and semicovariance (which only penalises downside risk)."
   ]
  },
  {
   "cell_type": "code",
   "execution_count": 10,
   "metadata": {
    "colab": {
     "base_uri": "https://localhost:8080/",
     "height": 35
    },
    "id": "5_0F7H7k_YO4",
    "outputId": "973ab4df-85ba-45bc-a907-2be2ec28793c"
   },
   "outputs": [
    {
     "data": {
      "application/vnd.google.colaboratory.intrinsic+json": {
       "type": "string"
      },
      "text/plain": [
       "'1.5.1'"
      ]
     },
     "execution_count": 10,
     "metadata": {},
     "output_type": "execute_result"
    }
   ],
   "source": [
    "import pypfopt\n",
    "pypfopt.__version__"
   ]
  },
  {
   "cell_type": "code",
   "execution_count": 11,
   "metadata": {
    "id": "U6m_oOBG_YO4"
   },
   "outputs": [],
   "source": [
    "from pypfopt import risk_models, expected_returns\n",
    "from pypfopt import plotting\n",
    "\n",
    "mu = expected_returns.capm_return(prices)\n",
    "S = risk_models.semicovariance(prices)"
   ]
  },
  {
   "cell_type": "code",
   "execution_count": 12,
   "metadata": {
    "colab": {
     "base_uri": "https://localhost:8080/",
     "height": 320
    },
    "id": "V-3Q-NM__YO5",
    "outputId": "57e931b0-70d9-4cb7-c0e8-741fb86db943"
   },
   "outputs": [
    {
     "data": {
      "image/png": "[encoded data removed]",
      "text/plain": [
       "<Figure size 720x360 with 1 Axes>"
      ]
     },
     "metadata": {
      "needs_background": "light"
     },
     "output_type": "display_data"
    }
   ],
   "source": [
    "mu.plot.barh(figsize=(10,5));"
   ]
  },
  {
   "cell_type": "code",
   "execution_count": 13,
   "metadata": {
    "colab": {
     "base_uri": "https://localhost:8080/",
     "height": 297
    },
    "id": "pgEDbNJ7_YO5",
    "outputId": "ac4edb81-60a7-48dc-ea68-02926985e564"
   },
   "outputs": [
    {
     "data": {
      "image/png": "[encoded data removed]",
      "text/plain": [
       "<Figure size 432x288 with 2 Axes>"
      ]
     },
     "metadata": {
      "needs_background": "light"
     },
     "output_type": "display_data"
    }
   ],
   "source": [
    "plotting.plot_covariance(S, plot_correlation=True);"
   ]
  },
  {
   "cell_type": "markdown",
   "metadata": {
    "id": "8V6jyzsw_YO5"
   },
   "source": [
    "## Min volatility with a transaction cost objective\n",
    "\n",
    "Let's say that you already have a portfolio, and want to now optimize it. It could be quite expensive to completely reallocate, so you may want to take into account transaction costs. PyPortfolioOpt provides a simple objective to account for this.\n",
    "\n",
    "Note: this objective will not play nicely with `max_sharpe`."
   ]
  },
  {
   "cell_type": "code",
   "execution_count": 14,
   "metadata": {
    "id": "70ib0FwA_YO5"
   },
   "outputs": [],
   "source": [
    "# Pretend that you started with a default-weight allocation\n",
    "initial_weights = np.array([1/len(tickers)] * len(tickers))"
   ]
  },
  {
   "cell_type": "code",
   "execution_count": 15,
   "metadata": {
    "colab": {
     "base_uri": "https://localhost:8080/"
    },
    "id": "h4DCRaLe_YO6",
    "outputId": "bab1cd04-1fb4-4d87-d784-ec3006753ba3"
   },
   "outputs": [
    {
     "data": {
      "text/plain": [
       "OrderedDict([('AAPL', 0.02823),\n",
       "             ('AMD', 0.0),\n",
       "             ('BAC', 0.01232),\n",
       "             ('BLK', 0.06667),\n",
       "             ('CVS', 0.06667),\n",
       "             ('DIS', 0.06667),\n",
       "             ('INTU', 0.06667),\n",
       "             ('JD', 0.23445),\n",
       "             ('MA', 0.06667),\n",
       "             ('NVDA', 0.05833),\n",
       "             ('PBI', 0.06667),\n",
       "             ('TGT', 0.06667),\n",
       "             ('TM', 0.06667),\n",
       "             ('UL', 0.06667),\n",
       "             ('WMT', 0.06667)])"
      ]
     },
     "execution_count": 15,
     "metadata": {},
     "output_type": "execute_result"
    }
   ],
   "source": [
    "from pypfopt import EfficientFrontier, objective_functions\n",
    "\n",
    "ef = EfficientFrontier(mu, S)\n",
    "\n",
    "# 1% broker commission\n",
    "ef.add_objective(objective_functions.transaction_cost, w_prev=initial_weights, k=0.01)\n",
    "ef.min_volatility()\n",
    "weights = ef.clean_weights()\n",
    "weights"
   ]
  },
  {
   "cell_type": "markdown",
   "metadata": {
    "id": "iTTvy6xH_YO6"
   },
   "source": [
    "Notice that many of the weights are 0.06667, i.e your original equal weight. In fact, the only change has been an allocation of AMD's weight to JD. If we lower the cost `k`, the allocation will change more:"
   ]
  },
  {
   "cell_type": "code",
   "execution_count": 16,
   "metadata": {
    "colab": {
     "base_uri": "https://localhost:8080/"
    },
    "id": "pTepg1-Q_YO6",
    "outputId": "335af198-0d41-482c-a923-617240ee5ffd"
   },
   "outputs": [
    {
     "data": {
      "text/plain": [
       "OrderedDict([('AAPL', 0.0),\n",
       "             ('AMD', 0.0),\n",
       "             ('BAC', 0.0),\n",
       "             ('BLK', 0.06667),\n",
       "             ('CVS', 0.04699),\n",
       "             ('DIS', 0.0),\n",
       "             ('INTU', 0.01458),\n",
       "             ('JD', 0.4362),\n",
       "             ('MA', 0.19541),\n",
       "             ('NVDA', 0.0),\n",
       "             ('PBI', 0.0),\n",
       "             ('TGT', 0.00327),\n",
       "             ('TM', 0.06667),\n",
       "             ('UL', 0.10354),\n",
       "             ('WMT', 0.06667)])"
      ]
     },
     "execution_count": 16,
     "metadata": {},
     "output_type": "execute_result"
    }
   ],
   "source": [
    "ef = EfficientFrontier(mu, S)\n",
    "ef.add_objective(objective_functions.transaction_cost, w_prev=initial_weights, k=0.001)\n",
    "ef.min_volatility()\n",
    "weights = ef.clean_weights()\n",
    "weights"
   ]
  },
  {
   "cell_type": "markdown",
   "metadata": {
    "id": "YM-gPp1S_YO7"
   },
   "source": [
    "The optimizer seems to really like JD. The reason for this is that it is highly anticorrelated to other assets (notice the dark column in the covariance plot). Hence, historically, it adds a lot of diversification. But it is dangerous to place too much emphasis on what happened in the past, so we may want to limit the asset weights. \n",
    "\n",
    "In addition, we notice that 4 stocks have now been allocated zero weight, which may be undesirable. Both of these problems can be fixed by adding an [L2 regularisation objective](https://pyportfolioopt.readthedocs.io/en/latest/EfficientFrontier.html#more-on-l2-regularisation). "
   ]
  },
  {
   "cell_type": "code",
   "execution_count": 17,
   "metadata": {
    "colab": {
     "base_uri": "https://localhost:8080/"
    },
    "id": "Mh22zJrI_YO7",
    "outputId": "f6b4707d-c5cb-4c81-d676-7f1cc9c412e5"
   },
   "outputs": [
    {
     "data": {
      "text/plain": [
       "OrderedDict([('AAPL', 0.06191),\n",
       "             ('AMD', 0.0538),\n",
       "             ('BAC', 0.06219),\n",
       "             ('BLK', 0.0704),\n",
       "             ('CVS', 0.06684),\n",
       "             ('DIS', 0.06516),\n",
       "             ('INTU', 0.06667),\n",
       "             ('JD', 0.0771),\n",
       "             ('MA', 0.0733),\n",
       "             ('NVDA', 0.06381),\n",
       "             ('PBI', 0.0648),\n",
       "             ('TGT', 0.06603),\n",
       "             ('TM', 0.06915),\n",
       "             ('UL', 0.0708),\n",
       "             ('WMT', 0.06804)])"
      ]
     },
     "execution_count": 17,
     "metadata": {},
     "output_type": "execute_result"
    }
   ],
   "source": [
    "ef = EfficientFrontier(mu, S)\n",
    "ef.add_objective(objective_functions.transaction_cost, w_prev=initial_weights, k=0.001)\n",
    "ef.add_objective(objective_functions.L2_reg)\n",
    "ef.min_volatility()\n",
    "weights = ef.clean_weights()\n",
    "weights"
   ]
  },
  {
   "cell_type": "markdown",
   "metadata": {
    "id": "zQrFckqY_YO7"
   },
   "source": [
    "This has had too much of an evening-out effect. After all, if the resulting allocation is going to be so close to equal weights, we may as well stick with our initial allocation. We can reduce the strength of the L2 regularisation by reducing `gamma`:"
   ]
  },
  {
   "cell_type": "code",
   "execution_count": 18,
   "metadata": {
    "colab": {
     "base_uri": "https://localhost:8080/"
    },
    "id": "VdeeHz8J_YO7",
    "outputId": "735a86d3-078e-4a28-cb2e-19da01de4542"
   },
   "outputs": [
    {
     "data": {
      "text/plain": [
       "OrderedDict([('AAPL', 0.02011),\n",
       "             ('AMD', 0.0),\n",
       "             ('BAC', 0.00851),\n",
       "             ('BLK', 0.09644),\n",
       "             ('CVS', 0.06667),\n",
       "             ('DIS', 0.04351),\n",
       "             ('INTU', 0.06058),\n",
       "             ('JD', 0.18765),\n",
       "             ('MA', 0.1367),\n",
       "             ('NVDA', 0.02831),\n",
       "             ('PBI', 0.03699),\n",
       "             ('TGT', 0.05195),\n",
       "             ('TM', 0.08463),\n",
       "             ('UL', 0.10431),\n",
       "             ('WMT', 0.07363)])"
      ]
     },
     "execution_count": 18,
     "metadata": {},
     "output_type": "execute_result"
    }
   ],
   "source": [
    "ef = EfficientFrontier(mu, S)\n",
    "ef.add_objective(objective_functions.transaction_cost, w_prev=initial_weights, k=0.001)\n",
    "ef.add_objective(objective_functions.L2_reg, gamma=0.05)  # default is 1\n",
    "ef.min_volatility()\n",
    "weights = ef.clean_weights()\n",
    "weights"
   ]
  },
  {
   "cell_type": "code",
   "execution_count": 19,
   "metadata": {
    "colab": {
     "base_uri": "https://localhost:8080/"
    },
    "id": "EFN7ul8-_YO8",
    "outputId": "575da3e2-c1ed-4821-dbec-8475d1f0c3b7"
   },
   "outputs": [
    {
     "name": "stdout",
     "output_type": "stream",
     "text": [
      "Expected annual return: 17.7%\n",
      "Annual volatility: 9.6%\n",
      "Sharpe Ratio: 1.64\n"
     ]
    }
   ],
   "source": [
    "ef.portfolio_performance(verbose=True);"
   ]
  },
  {
   "cell_type": "markdown",
   "metadata": {
    "id": "ra5fBWi8_YO8"
   },
   "source": [
    "This portfolio is now reasonably balanced, but also puts significantly more weight on JD. "
   ]
  },
  {
   "cell_type": "code",
   "execution_count": 20,
   "metadata": {
    "colab": {
     "base_uri": "https://localhost:8080/",
     "height": 575
    },
    "id": "3Klc-L_8_YO8",
    "outputId": "9bc2e6e6-9411-4be4-a851-918a648b5306"
   },
   "outputs": [
    {
     "data": {
      "image/png": "[encoded data removed]",
      "text/plain": [
       "<Figure size 720x720 with 1 Axes>"
      ]
     },
     "metadata": {},
     "output_type": "display_data"
    }
   ],
   "source": [
    "pd.Series(weights).plot.pie(figsize=(10,10));"
   ]
  },
  {
   "cell_type": "markdown",
   "metadata": {
    "id": "A4s-3rWa_YO9"
   },
   "source": [
    "## Custom convex objectives\n",
    "\n",
    "PyPortfolioOpt comes with the following built-in objective functions, as of v1.2.1:\n",
    "\n",
    "- Portfolio variance (i.e square of volatility)\n",
    "- Portfolio return\n",
    "- Sharpe ratio\n",
    "- L2 regularisation (minimising this reduces nonzero weights)\n",
    "- Quadratic utility\n",
    "- Transaction cost model (a simple one)\n",
    "\n",
    "However, you may want have a different objective. If this new objective is **convex**, you can optimize a portfolio with the full benefit of PyPortfolioOpt's modular syntax, for example adding other constraints and objectives.\n",
    "\n",
    "To demonstrate this, we will minimise the **logarithmic-barrier** function suggested in the paper 60 Years of Portfolio Optimization, by Kolm et al (2014):\n",
    "\n",
    "$$f(w, S, k) = w^T S w - k \\sum_{i=1}^N \\ln w$$\n",
    "\n",
    "We must first convert this mathematical objective into the language of cvxpy. Cvxpy is a powerful modelling language for convex optimization problems. It is clean and easy to use, the only caveat is that objectives must be expressed with `cvxpy` functions, a list of which can be found [here](https://www.cvxpy.org/tutorial/functions/index.html)."
   ]
  },
  {
   "cell_type": "code",
   "execution_count": 21,
   "metadata": {
    "id": "5WjglE6d_YO9"
   },
   "outputs": [],
   "source": [
    "import cvxpy as cp\n",
    "\n",
    "# Note: functions are minimised. If you want to maximise an objective, stick a minus sign in it.\n",
    "def logarithmic_barrier_objective(w, cov_matrix, k=0.1):\n",
    "    log_sum = cp.sum(cp.log(w))\n",
    "    var = cp.quad_form(w, cov_matrix)\n",
    "    return var - k * log_sum"
   ]
  },
  {
   "cell_type": "markdown",
   "metadata": {
    "id": "UxmNQahn_YO9"
   },
   "source": [
    "Once we have written the objective function, we can just use the `ef.convex_objective()` to minimise the objective."
   ]
  },
  {
   "cell_type": "code",
   "execution_count": 22,
   "metadata": {
    "colab": {
     "base_uri": "https://localhost:8080/"
    },
    "id": "SMsaFWHB_YO9",
    "outputId": "5a25c217-5d8b-4185-89de-a7379a5ef5fe"
   },
   "outputs": [
    {
     "data": {
      "text/plain": [
       "OrderedDict([('AAPL', 0.03845),\n",
       "             ('AMD', 0.02609),\n",
       "             ('BAC', 0.0376),\n",
       "             ('BLK', 0.07672),\n",
       "             ('CVS', 0.05664),\n",
       "             ('DIS', 0.04637),\n",
       "             ('INTU', 0.05215),\n",
       "             ('JD', 0.2),\n",
       "             ('MA', 0.11405),\n",
       "             ('NVDA', 0.04123),\n",
       "             ('PBI', 0.04431),\n",
       "             ('TGT', 0.04933),\n",
       "             ('TM', 0.06961),\n",
       "             ('UL', 0.08328),\n",
       "             ('WMT', 0.06417)])"
      ]
     },
     "execution_count": 22,
     "metadata": {},
     "output_type": "execute_result"
    }
   ],
   "source": [
    "ef = EfficientFrontier(mu, S, weight_bounds=(0.01, 0.2))\n",
    "ef.convex_objective(logarithmic_barrier_objective, cov_matrix=S, k=0.001)\n",
    "weights = ef.clean_weights()\n",
    "weights"
   ]
  },
  {
   "cell_type": "code",
   "execution_count": 23,
   "metadata": {
    "colab": {
     "base_uri": "https://localhost:8080/"
    },
    "id": "TGkjjU3z_YO-",
    "outputId": "d8e09c26-503d-4ac6-e57b-f81af6456544"
   },
   "outputs": [
    {
     "name": "stdout",
     "output_type": "stream",
     "text": [
      "Expected annual return: 18.5%\n",
      "Annual volatility: 10.2%\n",
      "Sharpe Ratio: 1.62\n"
     ]
    }
   ],
   "source": [
    "ef.portfolio_performance(verbose=True);"
   ]
  },
  {
   "cell_type": "markdown",
   "metadata": {
    "id": "mOAd1ncH_YO-"
   },
   "source": [
    "This is compatible with all the constraints discussed in the previous recipe. Let's say that we want to limit JD's weight to 15%."
   ]
  },
  {
   "cell_type": "code",
   "execution_count": 24,
   "metadata": {
    "colab": {
     "base_uri": "https://localhost:8080/"
    },
    "id": "J3rM2vkz_YO-",
    "outputId": "b00c2c60-47c5-419d-97d1-52957b32a56c"
   },
   "outputs": [
    {
     "data": {
      "text/plain": [
       "OrderedDict([('AAPL', 0.03938),\n",
       "             ('AMD', 0.02634),\n",
       "             ('BAC', 0.03819),\n",
       "             ('BLK', 0.08264),\n",
       "             ('CVS', 0.05924),\n",
       "             ('DIS', 0.04784),\n",
       "             ('INTU', 0.05447),\n",
       "             ('JD', 0.15),\n",
       "             ('MA', 0.13048),\n",
       "             ('NVDA', 0.04262),\n",
       "             ('PBI', 0.04594),\n",
       "             ('TGT', 0.05102),\n",
       "             ('TM', 0.07402),\n",
       "             ('UL', 0.09008),\n",
       "             ('WMT', 0.06773)])"
      ]
     },
     "execution_count": 24,
     "metadata": {},
     "output_type": "execute_result"
    }
   ],
   "source": [
    "ef = EfficientFrontier(mu, S, weight_bounds=(0.01, 0.2))\n",
    "jd_index = ef.tickers.index(\"JD\")  # get the index of JD\n",
    "ef.add_constraint(lambda w: w[jd_index] <= 0.15)\n",
    "ef.convex_objective(logarithmic_barrier_objective, cov_matrix=S, k=0.001)\n",
    "weights = ef.clean_weights()\n",
    "weights"
   ]
  },
  {
   "cell_type": "markdown",
   "metadata": {
    "id": "v-ObCWVv_YO-"
   },
   "source": [
    "## Custom nonconvex objectives\n",
    "\n",
    "In some cases, you may be trying to optimize for nonconvex objectives. Optimization in general is a very hard problem, so please be aware that you may have mixed results in that case. Convex problems, on the other hand, are well understood and can be solved with nice theoretical guarantees.\n",
    "\n",
    "PyPortfolioOpt does offer some functionality for nonconvex optimization, but it is not really encouraged. In particular, nonconvex optimization is not compatible with PyPortfolioOpt's modular constraints API.\n",
    "\n",
    "As an example, we will use the Deviation Risk Parity objective from Kolm et al (2014). Because we are not using a convex solver, we don't have to define it using `cvxpy` functions."
   ]
  },
  {
   "cell_type": "code",
   "execution_count": 25,
   "metadata": {
    "id": "WYIshUU__YO-"
   },
   "outputs": [],
   "source": [
    "def deviation_risk_parity(w, cov_matrix):\n",
    "    diff = w * np.dot(cov_matrix, w) - (w * np.dot(cov_matrix, w)).reshape(-1, 1)\n",
    "    return (diff ** 2).sum().sum()"
   ]
  },
  {
   "cell_type": "code",
   "execution_count": 26,
   "metadata": {
    "colab": {
     "base_uri": "https://localhost:8080/"
    },
    "id": "_fgoI8gj_YO-",
    "outputId": "a3f3c341-503e-4b7a-ef96-8bdf462c6d8a"
   },
   "outputs": [
    {
     "data": {
      "text/plain": [
       "OrderedDict([('AAPL', 0.0558),\n",
       "             ('AMD', 0.02641),\n",
       "             ('BAC', 0.05807),\n",
       "             ('BLK', 0.07668),\n",
       "             ('CVS', 0.07138),\n",
       "             ('DIS', 0.06556),\n",
       "             ('INTU', 0.06944),\n",
       "             ('JD', 0.07842),\n",
       "             ('MA', 0.07869),\n",
       "             ('NVDA', 0.06197),\n",
       "             ('PBI', 0.06493),\n",
       "             ('TGT', 0.06762),\n",
       "             ('TM', 0.07491),\n",
       "             ('UL', 0.0769),\n",
       "             ('WMT', 0.07323)])"
      ]
     },
     "execution_count": 26,
     "metadata": {},
     "output_type": "execute_result"
    }
   ],
   "source": [
    "ef = EfficientFrontier(mu, S, weight_bounds=(0.01, 0.12))\n",
    "ef.nonconvex_objective(deviation_risk_parity, ef.cov_matrix)\n",
    "weights = ef.clean_weights()\n",
    "weights"
   ]
  },
  {
   "cell_type": "markdown",
   "metadata": {
    "id": "1JJVTSOb_YO_"
   },
   "source": [
    "However, let's say we now want to enforce that JD has a weight of 10%. In the convex case, this would be as simple as:\n",
    "\n",
    "```python\n",
    "ef.add_objective(lambda w: w[jd_index] == 0.10)\n",
    "```\n",
    "\n",
    "But unfortunately, scipy does not allow for such intuitive syntax. You will need to rearrange your constraints to make them either `=0` or `<= 0`. \n",
    "\n",
    "```python\n",
    "constraints = [\n",
    "    # First constraint\n",
    "     {\"type\": \"eq\",  # equality constraint,\n",
    "      \"fun\": lambda w: w[1] - 0.2},  # the equality functions are assumed to = 0 \n",
    "      \n",
    "    # Second constraint\n",
    "    {\"type\": \"ineq\",  # inequality constraint\n",
    "     \"fun\": lambda w: w[0] - 0.5}   # inequality functions <= 0\n",
    "]\n",
    "```\n",
    "\n",
    "For more information, you can consult the [scipy docs](https://docs.scipy.org/doc/scipy/reference/generated/scipy.optimize.minimize.html), but they aren't very helpful."
   ]
  },
  {
   "cell_type": "code",
   "execution_count": 27,
   "metadata": {
    "colab": {
     "base_uri": "https://localhost:8080/"
    },
    "id": "84sElIfw_YO_",
    "outputId": "f4e9713d-2215-4093-9900-17a2035c5906"
   },
   "outputs": [
    {
     "data": {
      "text/plain": [
       "OrderedDict([('AAPL', 0.05576),\n",
       "             ('AMD', 0.02999),\n",
       "             ('BAC', 0.05776),\n",
       "             ('BLK', 0.07353),\n",
       "             ('CVS', 0.06915),\n",
       "             ('DIS', 0.06421),\n",
       "             ('INTU', 0.06745),\n",
       "             ('JD', 0.1),\n",
       "             ('MA', 0.07516),\n",
       "             ('NVDA', 0.06094),\n",
       "             ('PBI', 0.06357),\n",
       "             ('TGT', 0.06597),\n",
       "             ('TM', 0.07208),\n",
       "             ('UL', 0.07373),\n",
       "             ('WMT', 0.07071)])"
      ]
     },
     "execution_count": 27,
     "metadata": {},
     "output_type": "execute_result"
    }
   ],
   "source": [
    "ef = EfficientFrontier(mu, S, weight_bounds=(0.01, 0.12))\n",
    "\n",
    "ef.nonconvex_objective(\n",
    "    deviation_risk_parity,\n",
    "    objective_args=S,\n",
    "    weights_sum_to_one=True,\n",
    "    constraints=[\n",
    "        {\"type\": \"eq\", \"fun\": lambda w: w[jd_index] - 0.10},  \n",
    "    ],\n",
    ")\n",
    "\n",
    "weights = ef.clean_weights()\n",
    "weights"
   ]
  },
  {
   "cell_type": "markdown",
   "metadata": {
    "id": "0SoIPcj2_YO_"
   },
   "source": [
    "## More examples of nonconvex objectives\n",
    "\n",
    "The scipy format is not intuitive and is hard to explain, so here are a bunch of examples (adapted from the tests). Some of these are actually convex, so you should use `convex_objective` instead. "
   ]
  },
  {
   "cell_type": "code",
   "execution_count": 28,
   "metadata": {
    "colab": {
     "base_uri": "https://localhost:8080/"
    },
    "id": "vfzCiKQT_YO_",
    "outputId": "a6413d3f-22d7-4406-9904-c480be20bd53"
   },
   "outputs": [
    {
     "data": {
      "text/plain": [
       "OrderedDict([('AAPL', 0.04432),\n",
       "             ('AMD', 0.03205),\n",
       "             ('BAC', 0.0439),\n",
       "             ('BLK', 0.07685),\n",
       "             ('CVS', 0.06049),\n",
       "             ('DIS', 0.05166),\n",
       "             ('INTU', 0.05695),\n",
       "             ('JD', 0.16311),\n",
       "             ('MA', 0.10119),\n",
       "             ('NVDA', 0.04752),\n",
       "             ('PBI', 0.05026),\n",
       "             ('TGT', 0.05434),\n",
       "             ('TM', 0.07063),\n",
       "             ('UL', 0.08069),\n",
       "             ('WMT', 0.06605)])"
      ]
     },
     "execution_count": 28,
     "metadata": {},
     "output_type": "execute_result"
    }
   ],
   "source": [
    "# Another example of deviation risk parity\n",
    "def deviation_risk_parity(w, cov_matrix):\n",
    "    n = cov_matrix.shape[0]\n",
    "    rp = (w * (cov_matrix @ w)) / cp.quad_form(w, cov_matrix)\n",
    "    return cp.sum_squares(rp - 1 / n).value\n",
    "\n",
    "ef = EfficientFrontier(mu, S)\n",
    "ef.nonconvex_objective(deviation_risk_parity, ef.cov_matrix)\n",
    "weights = ef.clean_weights()\n",
    "weights"
   ]
  },
  {
   "cell_type": "code",
   "execution_count": 29,
   "metadata": {
    "colab": {
     "base_uri": "https://localhost:8080/"
    },
    "id": "P2jqcyK7_YO_",
    "outputId": "59979140-7fd0-41cc-fb52-8b12586b2066"
   },
   "outputs": [
    {
     "data": {
      "text/plain": [
       "OrderedDict([('AAPL', 0.1),\n",
       "             ('AMD', 0.03371),\n",
       "             ('BAC', 0.04774),\n",
       "             ('BLK', 0.07578),\n",
       "             ('CVS', 0.06051),\n",
       "             ('DIS', 0.05414),\n",
       "             ('INTU', 0.05662),\n",
       "             ('JD', 0.11429),\n",
       "             ('MA', 0.09186),\n",
       "             ('NVDA', 0.04985),\n",
       "             ('PBI', 0.05315),\n",
       "             ('TGT', 0.05564),\n",
       "             ('TM', 0.06813),\n",
       "             ('UL', 0.07496),\n",
       "             ('WMT', 0.06363)])"
      ]
     },
     "execution_count": 29,
     "metadata": {},
     "output_type": "execute_result"
    }
   ],
   "source": [
    "# Deviation risk parity with weight bound on the first asset\n",
    "ef = EfficientFrontier(mu, S)\n",
    "ef.nonconvex_objective(deviation_risk_parity, \n",
    "                       ef.cov_matrix, \n",
    "                       constraints=[{\"type\":\"eq\", \"fun\":lambda w: w[0] - 0.1}])\n",
    "weights = ef.clean_weights()\n",
    "weights"
   ]
  },
  {
   "cell_type": "code",
   "execution_count": 30,
   "metadata": {
    "colab": {
     "base_uri": "https://localhost:8080/"
    },
    "id": "voar0fB2_YPA",
    "outputId": "2721f2ad-7b9f-4a8a-967a-48921b88e853"
   },
   "outputs": [
    {
     "data": {
      "text/plain": [
       "OrderedDict([('AAPL', 0.09646),\n",
       "             ('AMD', 0.16657),\n",
       "             ('BAC', 0.01497),\n",
       "             ('BLK', -0.09881),\n",
       "             ('CVS', -0.17057),\n",
       "             ('DIS', 0.21792),\n",
       "             ('INTU', 0.11454),\n",
       "             ('JD', 0.14593),\n",
       "             ('MA', 0.59801),\n",
       "             ('NVDA', 0.42335),\n",
       "             ('PBI', -0.03505),\n",
       "             ('TGT', 0.00214),\n",
       "             ('TM', -0.47931),\n",
       "             ('UL', -0.8376),\n",
       "             ('WMT', -0.15855)])"
      ]
     },
     "execution_count": 30,
     "metadata": {},
     "output_type": "execute_result"
    }
   ],
   "source": [
    "# Market-neutral efficient risk.\n",
    "# Please use ef.efficient_risk() for anything serious.\n",
    "target_risk = 0.19\n",
    "ef = EfficientFrontier(mu, S, weight_bounds=(None, None))\n",
    "\n",
    "# Weights sum to zero\n",
    "weight_constr = {\"type\": \"eq\", \"fun\": lambda w: np.sum(w)}\n",
    "\n",
    "# Portfolio vol less than target vol\n",
    "risk_constr = {\n",
    "    \"type\": \"eq\",\n",
    "    \"fun\": lambda w: target_risk ** 2 - np.dot(w.T, np.dot(ef.cov_matrix, w)),\n",
    "}\n",
    "constraints = [weight_constr, risk_constr]\n",
    "\n",
    "ef.nonconvex_objective(\n",
    "    lambda w, mu: -w.T.dot(mu),  # min negative return i.e max return\n",
    "    objective_args=(ef.expected_returns),\n",
    "    weights_sum_to_one=False,\n",
    "    constraints=constraints,\n",
    ")\n",
    "weights = ef.clean_weights()\n",
    "weights"
   ]
  },
  {
   "cell_type": "code",
   "execution_count": 31,
   "metadata": {
    "colab": {
     "base_uri": "https://localhost:8080/"
    },
    "id": "2kgcF-V9_YPH",
    "outputId": "862dc21d-2005-438b-eb0d-3ebe2d7e0222"
   },
   "outputs": [
    {
     "data": {
      "text/plain": [
       "OrderedDict([('AAPL', 0.0),\n",
       "             ('AMD', 0.06009),\n",
       "             ('BAC', 0.0),\n",
       "             ('BLK', 0.0),\n",
       "             ('CVS', 0.0),\n",
       "             ('DIS', 0.0),\n",
       "             ('INTU', 0.0),\n",
       "             ('JD', 0.0),\n",
       "             ('MA', 0.0),\n",
       "             ('NVDA', 0.93991),\n",
       "             ('PBI', 0.0),\n",
       "             ('TGT', 0.0),\n",
       "             ('TM', 0.0),\n",
       "             ('UL', 0.0),\n",
       "             ('WMT', 0.0)])"
      ]
     },
     "execution_count": 31,
     "metadata": {},
     "output_type": "execute_result"
    }
   ],
   "source": [
    "# Utility objective - you could actually use ef.max_quadratic_utility\n",
    "ef = EfficientFrontier(mu, S)\n",
    "\n",
    "def utility_obj(weights, mu, cov_matrix, k=1):\n",
    "    return -weights.dot(mu) + k * np.dot(weights.T, np.dot(cov_matrix, weights))\n",
    "\n",
    "ef.nonconvex_objective(\n",
    "    utility_obj,\n",
    "    objective_args=(ef.expected_returns, ef.cov_matrix, 1)\n",
    "    # default is for weights to sum to 1\n",
    ")\n",
    "\n",
    "weights = ef.clean_weights()\n",
    "weights"
   ]
  },
  {
   "cell_type": "code",
   "execution_count": 32,
   "metadata": {
    "colab": {
     "base_uri": "https://localhost:8080/"
    },
    "id": "LnNkM5DJ_YPH",
    "outputId": "874299e2-37a8-4783-9f8e-7608ff293837"
   },
   "outputs": [
    {
     "data": {
      "text/plain": [
       "1.0000000000000004"
      ]
     },
     "execution_count": 32,
     "metadata": {},
     "output_type": "execute_result"
    }
   ],
   "source": [
    "ef.weights.sum()"
   ]
  },
  {
   "cell_type": "code",
   "execution_count": 33,
   "metadata": {
    "colab": {
     "base_uri": "https://localhost:8080/"
    },
    "id": "FSFhcUz7_YPH",
    "outputId": "0a086117-7335-4558-aaee-c7c70c295f90"
   },
   "outputs": [
    {
     "data": {
      "text/plain": [
       "OrderedDict([('AAPL', 0.06667),\n",
       "             ('AMD', 0.06667),\n",
       "             ('BAC', 0.06667),\n",
       "             ('BLK', 0.06667),\n",
       "             ('CVS', 0.06667),\n",
       "             ('DIS', 0.06667),\n",
       "             ('INTU', 0.06667),\n",
       "             ('JD', 0.06667),\n",
       "             ('MA', 0.06667),\n",
       "             ('NVDA', 0.06667),\n",
       "             ('PBI', 0.06667),\n",
       "             ('TGT', 0.06667),\n",
       "             ('TM', 0.06667),\n",
       "             ('UL', 0.06667),\n",
       "             ('WMT', 0.06667)])"
      ]
     },
     "execution_count": 33,
     "metadata": {},
     "output_type": "execute_result"
    }
   ],
   "source": [
    "# Kelly objective with weight bounds on zeroth asset\n",
    "def kelly_objective(w, e_returns, cov_matrix, k=3):\n",
    "    variance = np.dot(w.T, np.dot(cov_matrix, w))\n",
    "    objective = variance * 0.5 * k - np.dot(w, e_returns)\n",
    "    return objective\n",
    "\n",
    "lower_bounds, upper_bounds = 0.01, 0.3\n",
    "ef = EfficientFrontier(mu, S)\n",
    "ef.nonconvex_objective(\n",
    "    kelly_objective,\n",
    "    objective_args=(ef.expected_returns, ef.cov_matrix, 1000),\n",
    "    constraints=[\n",
    "        {\"type\": \"eq\", \"fun\": lambda w: np.sum(w) - 1},\n",
    "        {\"type\": \"ineq\", \"fun\": lambda w: w[0] - lower_bounds},\n",
    "        {\"type\": \"ineq\", \"fun\": lambda w: upper_bounds - w[0]},\n",
    "    ],\n",
    ")\n",
    "\n",
    "weights = ef.clean_weights()\n",
    "weights"
   ]
  },
  {
   "cell_type": "code",
   "execution_count": 33,
   "metadata": {
    "id": "IP6os0tS_YPI"
   },
   "outputs": [],
   "source": []
  }
 ],
 "metadata": {
  "colab": {
   "collapsed_sections": [],
   "name": "3-Advanced-Mean-Variance-Optimisation.ipynb",
   "provenance": []
  },
  "kernelspec": {
   "display_name": "Python 3 (ipykernel)",
   "language": "python",
   "name": "python3"
  },
  "language_info": {
   "codemirror_mode": {
    "name": "ipython",
    "version": 3
   },
   "file_extension": ".py",
   "mimetype": "text/x-python",
   "name": "python",
   "nbconvert_exporter": "python",
   "pygments_lexer": "ipython3",
   "version": "3.8.16"
  }
 },
 "nbformat": 4,
 "nbformat_minor": 1
}
